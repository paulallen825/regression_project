{
 "cells": [
  {
   "cell_type": "code",
   "execution_count": 1,
   "id": "9a292c0e",
   "metadata": {},
   "outputs": [],
   "source": [
    "import pandas as pd\n",
    "import numpy as np\n",
    "import prepare\n",
    "import seaborn as sns\n",
    "import matplotlib.pyplot as plt\n",
    "from sklearn.metrics import explained_variance_score\n",
    "import scipy.stats as stats\n",
    "from sklearn.model_selection import train_test_split\n",
    "\n",
    "\n",
    "# import models\n",
    "from sklearn.preprocessing import MinMaxScaler, RobustScaler, StandardScaler\n",
    "from sklearn.metrics import mean_squared_error\n",
    "from sklearn.linear_model import LinearRegression, LassoLars, TweedieRegressor\n",
    "from sklearn.preprocessing import PolynomialFeatures\n",
    "from sklearn.feature_selection import SelectKBest, f_regression, RFE\n",
    "\n",
    "import warnings\n",
    "warnings.filterwarnings(\"ignore\")"
   ]
  },
  {
   "cell_type": "code",
   "execution_count": 2,
   "id": "4b1c5f87",
   "metadata": {},
   "outputs": [],
   "source": [
    "from acquire import get_zillow_data"
   ]
  },
  {
   "cell_type": "code",
   "execution_count": 3,
   "id": "c4c68ce2",
   "metadata": {},
   "outputs": [],
   "source": [
    "# acquire zillow dataset \n",
    "df = get_zillow_data()\n",
    "\n",
    "\n"
   ]
  },
  {
   "cell_type": "code",
   "execution_count": 4,
   "id": "498a0020",
   "metadata": {},
   "outputs": [
    {
     "data": {
      "text/html": [
       "<div>\n",
       "<style scoped>\n",
       "    .dataframe tbody tr th:only-of-type {\n",
       "        vertical-align: middle;\n",
       "    }\n",
       "\n",
       "    .dataframe tbody tr th {\n",
       "        vertical-align: top;\n",
       "    }\n",
       "\n",
       "    .dataframe thead th {\n",
       "        text-align: right;\n",
       "    }\n",
       "</style>\n",
       "<table border=\"1\" class=\"dataframe\">\n",
       "  <thead>\n",
       "    <tr style=\"text-align: right;\">\n",
       "      <th></th>\n",
       "      <th>parcelid</th>\n",
       "      <th>bathroomcnt</th>\n",
       "      <th>bedroomcnt</th>\n",
       "      <th>calculatedfinishedsquarefeet</th>\n",
       "      <th>fips</th>\n",
       "      <th>yearbuilt</th>\n",
       "      <th>taxvaluedollarcnt</th>\n",
       "      <th>taxamount</th>\n",
       "      <th>propertylandusetypeid</th>\n",
       "    </tr>\n",
       "  </thead>\n",
       "  <tbody>\n",
       "    <tr>\n",
       "      <th>0</th>\n",
       "      <td>11721753</td>\n",
       "      <td>2.0</td>\n",
       "      <td>3.0</td>\n",
       "      <td>1316.0</td>\n",
       "      <td>6037.0</td>\n",
       "      <td>1923.0</td>\n",
       "      <td>205123.0</td>\n",
       "      <td>2627.48</td>\n",
       "      <td>261.0</td>\n",
       "    </tr>\n",
       "    <tr>\n",
       "      <th>1</th>\n",
       "      <td>11289917</td>\n",
       "      <td>2.0</td>\n",
       "      <td>3.0</td>\n",
       "      <td>1458.0</td>\n",
       "      <td>6037.0</td>\n",
       "      <td>1970.0</td>\n",
       "      <td>136104.0</td>\n",
       "      <td>2319.90</td>\n",
       "      <td>261.0</td>\n",
       "    </tr>\n",
       "    <tr>\n",
       "      <th>2</th>\n",
       "      <td>11705026</td>\n",
       "      <td>1.0</td>\n",
       "      <td>2.0</td>\n",
       "      <td>1421.0</td>\n",
       "      <td>6037.0</td>\n",
       "      <td>1911.0</td>\n",
       "      <td>35606.0</td>\n",
       "      <td>543.69</td>\n",
       "      <td>261.0</td>\n",
       "    </tr>\n",
       "    <tr>\n",
       "      <th>3</th>\n",
       "      <td>14269464</td>\n",
       "      <td>3.0</td>\n",
       "      <td>4.0</td>\n",
       "      <td>2541.0</td>\n",
       "      <td>6059.0</td>\n",
       "      <td>2003.0</td>\n",
       "      <td>880456.0</td>\n",
       "      <td>9819.72</td>\n",
       "      <td>261.0</td>\n",
       "    </tr>\n",
       "    <tr>\n",
       "      <th>4</th>\n",
       "      <td>11446756</td>\n",
       "      <td>2.0</td>\n",
       "      <td>3.0</td>\n",
       "      <td>1491.0</td>\n",
       "      <td>6037.0</td>\n",
       "      <td>1955.0</td>\n",
       "      <td>107110.0</td>\n",
       "      <td>1399.27</td>\n",
       "      <td>261.0</td>\n",
       "    </tr>\n",
       "  </tbody>\n",
       "</table>\n",
       "</div>"
      ],
      "text/plain": [
       "   parcelid  bathroomcnt  bedroomcnt  calculatedfinishedsquarefeet    fips  \\\n",
       "0  11721753          2.0         3.0                        1316.0  6037.0   \n",
       "1  11289917          2.0         3.0                        1458.0  6037.0   \n",
       "2  11705026          1.0         2.0                        1421.0  6037.0   \n",
       "3  14269464          3.0         4.0                        2541.0  6059.0   \n",
       "4  11446756          2.0         3.0                        1491.0  6037.0   \n",
       "\n",
       "   yearbuilt  taxvaluedollarcnt  taxamount  propertylandusetypeid  \n",
       "0     1923.0           205123.0    2627.48                  261.0  \n",
       "1     1970.0           136104.0    2319.90                  261.0  \n",
       "2     1911.0            35606.0     543.69                  261.0  \n",
       "3     2003.0           880456.0    9819.72                  261.0  \n",
       "4     1955.0           107110.0    1399.27                  261.0  "
      ]
     },
     "execution_count": 4,
     "metadata": {},
     "output_type": "execute_result"
    }
   ],
   "source": [
    "#check the zillow data\n",
    "df.head()"
   ]
  },
  {
   "cell_type": "code",
   "execution_count": 5,
   "id": "2ab633fc",
   "metadata": {},
   "outputs": [
    {
     "name": "stdout",
     "output_type": "stream",
     "text": [
      "<class 'pandas.core.frame.DataFrame'>\n",
      "Int64Index: 28186 entries, 0 to 28185\n",
      "Data columns (total 9 columns):\n",
      " #   Column                        Non-Null Count  Dtype  \n",
      "---  ------                        --------------  -----  \n",
      " 0   parcelid                      28186 non-null  int64  \n",
      " 1   bathroomcnt                   28186 non-null  float64\n",
      " 2   bedroomcnt                    28186 non-null  float64\n",
      " 3   calculatedfinishedsquarefeet  28118 non-null  float64\n",
      " 4   fips                          28186 non-null  float64\n",
      " 5   yearbuilt                     28094 non-null  float64\n",
      " 6   taxvaluedollarcnt             28185 non-null  float64\n",
      " 7   taxamount                     28185 non-null  float64\n",
      " 8   propertylandusetypeid         28186 non-null  float64\n",
      "dtypes: float64(8), int64(1)\n",
      "memory usage: 2.2 MB\n"
     ]
    }
   ],
   "source": [
    "df.info()"
   ]
  },
  {
   "cell_type": "code",
   "execution_count": 6,
   "id": "756f29b6",
   "metadata": {},
   "outputs": [
    {
     "data": {
      "text/plain": [
       "(28186, 9)"
      ]
     },
     "execution_count": 6,
     "metadata": {},
     "output_type": "execute_result"
    }
   ],
   "source": [
    "df.shape"
   ]
  },
  {
   "cell_type": "markdown",
   "id": "c50a46f2",
   "metadata": {},
   "source": [
    "PREPARE STAGE"
   ]
  },
  {
   "cell_type": "code",
   "execution_count": 7,
   "id": "d702ee04",
   "metadata": {},
   "outputs": [
    {
     "data": {
      "text/plain": [
       "parcelid                         0\n",
       "bathroomcnt                      0\n",
       "bedroomcnt                       0\n",
       "calculatedfinishedsquarefeet    68\n",
       "fips                             0\n",
       "yearbuilt                       92\n",
       "taxvaluedollarcnt                1\n",
       "taxamount                        1\n",
       "propertylandusetypeid            0\n",
       "dtype: int64"
      ]
     },
     "execution_count": 7,
     "metadata": {},
     "output_type": "execute_result"
    }
   ],
   "source": [
    "#check df for null values\n",
    "df.isnull().sum()"
   ]
  },
  {
   "cell_type": "code",
   "execution_count": 8,
   "id": "7f462e7e",
   "metadata": {},
   "outputs": [],
   "source": [
    "#drop the null values from df\n",
    "df = df.dropna()"
   ]
  },
  {
   "cell_type": "code",
   "execution_count": 9,
   "id": "ebef0851",
   "metadata": {},
   "outputs": [
    {
     "data": {
      "text/plain": [
       "parcelid                        0\n",
       "bathroomcnt                     0\n",
       "bedroomcnt                      0\n",
       "calculatedfinishedsquarefeet    0\n",
       "fips                            0\n",
       "yearbuilt                       0\n",
       "taxvaluedollarcnt               0\n",
       "taxamount                       0\n",
       "propertylandusetypeid           0\n",
       "dtype: int64"
      ]
     },
     "execution_count": 9,
     "metadata": {},
     "output_type": "execute_result"
    }
   ],
   "source": [
    "#check that they were dropped\n",
    "df.isnull().sum()"
   ]
  },
  {
   "cell_type": "code",
   "execution_count": 10,
   "id": "dbe45f83",
   "metadata": {},
   "outputs": [
    {
     "data": {
      "text/plain": [
       "False    28065\n",
       "True        24\n",
       "Name: parcelid, dtype: int64"
      ]
     },
     "execution_count": 10,
     "metadata": {},
     "output_type": "execute_result"
    }
   ],
   "source": [
    "df['parcelid'].duplicated().value_counts()"
   ]
  },
  {
   "cell_type": "code",
   "execution_count": 11,
   "id": "7101846e",
   "metadata": {},
   "outputs": [],
   "source": [
    "df.drop_duplicates(subset = ['parcelid'], inplace=True)"
   ]
  },
  {
   "cell_type": "code",
   "execution_count": 12,
   "id": "2b493423",
   "metadata": {},
   "outputs": [
    {
     "data": {
      "text/plain": [
       "False    28065\n",
       "Name: parcelid, dtype: int64"
      ]
     },
     "execution_count": 12,
     "metadata": {},
     "output_type": "execute_result"
    }
   ],
   "source": [
    "df['parcelid'].duplicated().value_counts()"
   ]
  },
  {
   "cell_type": "code",
   "execution_count": 13,
   "id": "dc36b580",
   "metadata": {},
   "outputs": [
    {
     "data": {
      "image/png": "[encoded data removed]",
      "text/plain": [
       "<Figure size 1152x288 with 3 Axes>"
      ]
     },
     "metadata": {
      "needs_background": "light"
     },
     "output_type": "display_data"
    }
   ],
   "source": [
    "# Plot \n",
    "plt.figure(figsize=(16, 4))\n",
    "\n",
    "# List of columns\n",
    "cols = [ 'bedroomcnt','calculatedfinishedsquarefeet', 'bathroomcnt']\n",
    "\n",
    "for i, col in enumerate(cols):\n",
    "\n",
    "    # start the plot with i at 0\n",
    "    plot_number = i + 1 \n",
    "\n",
    "    # Create  the subplot.\n",
    "    plt.subplot(1,4, plot_number)\n",
    "\n",
    "    # Create the title from the column\n",
    "    plt.title(col)\n",
    "\n",
    "    # show histgram of column\n",
    "    df[col].hist(bins=5)\n"
   ]
  },
  {
   "cell_type": "markdown",
   "id": "8b2f01e2",
   "metadata": {},
   "source": [
    "DATA VALIDATION"
   ]
  },
  {
   "cell_type": "code",
   "execution_count": 14,
   "id": "e826d458",
   "metadata": {},
   "outputs": [
    {
     "data": {
      "text/html": [
       "<div>\n",
       "<style scoped>\n",
       "    .dataframe tbody tr th:only-of-type {\n",
       "        vertical-align: middle;\n",
       "    }\n",
       "\n",
       "    .dataframe tbody tr th {\n",
       "        vertical-align: top;\n",
       "    }\n",
       "\n",
       "    .dataframe thead th {\n",
       "        text-align: right;\n",
       "    }\n",
       "</style>\n",
       "<table border=\"1\" class=\"dataframe\">\n",
       "  <thead>\n",
       "    <tr style=\"text-align: right;\">\n",
       "      <th></th>\n",
       "      <th>parcelid</th>\n",
       "      <th>bathroomcnt</th>\n",
       "      <th>bedroomcnt</th>\n",
       "      <th>calculatedfinishedsquarefeet</th>\n",
       "      <th>fips</th>\n",
       "      <th>yearbuilt</th>\n",
       "      <th>taxvaluedollarcnt</th>\n",
       "      <th>taxamount</th>\n",
       "      <th>propertylandusetypeid</th>\n",
       "    </tr>\n",
       "  </thead>\n",
       "  <tbody>\n",
       "    <tr>\n",
       "      <th>0</th>\n",
       "      <td>11721753</td>\n",
       "      <td>2.0</td>\n",
       "      <td>3.0</td>\n",
       "      <td>1316.0</td>\n",
       "      <td>6037.0</td>\n",
       "      <td>1923.0</td>\n",
       "      <td>205123.0</td>\n",
       "      <td>2627.48</td>\n",
       "      <td>261.0</td>\n",
       "    </tr>\n",
       "    <tr>\n",
       "      <th>1</th>\n",
       "      <td>11289917</td>\n",
       "      <td>2.0</td>\n",
       "      <td>3.0</td>\n",
       "      <td>1458.0</td>\n",
       "      <td>6037.0</td>\n",
       "      <td>1970.0</td>\n",
       "      <td>136104.0</td>\n",
       "      <td>2319.90</td>\n",
       "      <td>261.0</td>\n",
       "    </tr>\n",
       "    <tr>\n",
       "      <th>2</th>\n",
       "      <td>11705026</td>\n",
       "      <td>1.0</td>\n",
       "      <td>2.0</td>\n",
       "      <td>1421.0</td>\n",
       "      <td>6037.0</td>\n",
       "      <td>1911.0</td>\n",
       "      <td>35606.0</td>\n",
       "      <td>543.69</td>\n",
       "      <td>261.0</td>\n",
       "    </tr>\n",
       "    <tr>\n",
       "      <th>3</th>\n",
       "      <td>14269464</td>\n",
       "      <td>3.0</td>\n",
       "      <td>4.0</td>\n",
       "      <td>2541.0</td>\n",
       "      <td>6059.0</td>\n",
       "      <td>2003.0</td>\n",
       "      <td>880456.0</td>\n",
       "      <td>9819.72</td>\n",
       "      <td>261.0</td>\n",
       "    </tr>\n",
       "    <tr>\n",
       "      <th>4</th>\n",
       "      <td>11446756</td>\n",
       "      <td>2.0</td>\n",
       "      <td>3.0</td>\n",
       "      <td>1491.0</td>\n",
       "      <td>6037.0</td>\n",
       "      <td>1955.0</td>\n",
       "      <td>107110.0</td>\n",
       "      <td>1399.27</td>\n",
       "      <td>261.0</td>\n",
       "    </tr>\n",
       "  </tbody>\n",
       "</table>\n",
       "</div>"
      ],
      "text/plain": [
       "   parcelid  bathroomcnt  bedroomcnt  calculatedfinishedsquarefeet    fips  \\\n",
       "0  11721753          2.0         3.0                        1316.0  6037.0   \n",
       "1  11289917          2.0         3.0                        1458.0  6037.0   \n",
       "2  11705026          1.0         2.0                        1421.0  6037.0   \n",
       "3  14269464          3.0         4.0                        2541.0  6059.0   \n",
       "4  11446756          2.0         3.0                        1491.0  6037.0   \n",
       "\n",
       "   yearbuilt  taxvaluedollarcnt  taxamount  propertylandusetypeid  \n",
       "0     1923.0           205123.0    2627.48                  261.0  \n",
       "1     1970.0           136104.0    2319.90                  261.0  \n",
       "2     1911.0            35606.0     543.69                  261.0  \n",
       "3     2003.0           880456.0    9819.72                  261.0  \n",
       "4     1955.0           107110.0    1399.27                  261.0  "
      ]
     },
     "execution_count": 14,
     "metadata": {},
     "output_type": "execute_result"
    }
   ],
   "source": [
    "df.head()"
   ]
  },
  {
   "cell_type": "code",
   "execution_count": 15,
   "id": "308fac14",
   "metadata": {},
   "outputs": [],
   "source": [
    "df.rename(columns={'bathroomcnt': 'baths', \n",
    "                     'bedroomcnt': 'beds',\n",
    "                     'calculatedfinishedsquarefeet': 'sqrft',\n",
    "                     'fips': 'county',\n",
    "                     'taxvaluedollarcnt': 'taxval',\n",
    "                     'taxamount': 'taxamt'}, inplace=True\n",
    "            )"
   ]
  },
  {
   "cell_type": "code",
   "execution_count": 16,
   "id": "b634c855",
   "metadata": {},
   "outputs": [
    {
     "data": {
      "text/html": [
       "<div>\n",
       "<style scoped>\n",
       "    .dataframe tbody tr th:only-of-type {\n",
       "        vertical-align: middle;\n",
       "    }\n",
       "\n",
       "    .dataframe tbody tr th {\n",
       "        vertical-align: top;\n",
       "    }\n",
       "\n",
       "    .dataframe thead th {\n",
       "        text-align: right;\n",
       "    }\n",
       "</style>\n",
       "<table border=\"1\" class=\"dataframe\">\n",
       "  <thead>\n",
       "    <tr style=\"text-align: right;\">\n",
       "      <th></th>\n",
       "      <th>parcelid</th>\n",
       "      <th>baths</th>\n",
       "      <th>beds</th>\n",
       "      <th>sqrft</th>\n",
       "      <th>county</th>\n",
       "      <th>yearbuilt</th>\n",
       "      <th>taxval</th>\n",
       "      <th>taxamt</th>\n",
       "      <th>propertylandusetypeid</th>\n",
       "    </tr>\n",
       "  </thead>\n",
       "  <tbody>\n",
       "    <tr>\n",
       "      <th>0</th>\n",
       "      <td>11721753</td>\n",
       "      <td>2.0</td>\n",
       "      <td>3.0</td>\n",
       "      <td>1316.0</td>\n",
       "      <td>6037.0</td>\n",
       "      <td>1923.0</td>\n",
       "      <td>205123.0</td>\n",
       "      <td>2627.48</td>\n",
       "      <td>261.0</td>\n",
       "    </tr>\n",
       "    <tr>\n",
       "      <th>1</th>\n",
       "      <td>11289917</td>\n",
       "      <td>2.0</td>\n",
       "      <td>3.0</td>\n",
       "      <td>1458.0</td>\n",
       "      <td>6037.0</td>\n",
       "      <td>1970.0</td>\n",
       "      <td>136104.0</td>\n",
       "      <td>2319.90</td>\n",
       "      <td>261.0</td>\n",
       "    </tr>\n",
       "    <tr>\n",
       "      <th>2</th>\n",
       "      <td>11705026</td>\n",
       "      <td>1.0</td>\n",
       "      <td>2.0</td>\n",
       "      <td>1421.0</td>\n",
       "      <td>6037.0</td>\n",
       "      <td>1911.0</td>\n",
       "      <td>35606.0</td>\n",
       "      <td>543.69</td>\n",
       "      <td>261.0</td>\n",
       "    </tr>\n",
       "    <tr>\n",
       "      <th>3</th>\n",
       "      <td>14269464</td>\n",
       "      <td>3.0</td>\n",
       "      <td>4.0</td>\n",
       "      <td>2541.0</td>\n",
       "      <td>6059.0</td>\n",
       "      <td>2003.0</td>\n",
       "      <td>880456.0</td>\n",
       "      <td>9819.72</td>\n",
       "      <td>261.0</td>\n",
       "    </tr>\n",
       "    <tr>\n",
       "      <th>4</th>\n",
       "      <td>11446756</td>\n",
       "      <td>2.0</td>\n",
       "      <td>3.0</td>\n",
       "      <td>1491.0</td>\n",
       "      <td>6037.0</td>\n",
       "      <td>1955.0</td>\n",
       "      <td>107110.0</td>\n",
       "      <td>1399.27</td>\n",
       "      <td>261.0</td>\n",
       "    </tr>\n",
       "  </tbody>\n",
       "</table>\n",
       "</div>"
      ],
      "text/plain": [
       "   parcelid  baths  beds   sqrft  county  yearbuilt    taxval   taxamt  \\\n",
       "0  11721753    2.0   3.0  1316.0  6037.0     1923.0  205123.0  2627.48   \n",
       "1  11289917    2.0   3.0  1458.0  6037.0     1970.0  136104.0  2319.90   \n",
       "2  11705026    1.0   2.0  1421.0  6037.0     1911.0   35606.0   543.69   \n",
       "3  14269464    3.0   4.0  2541.0  6059.0     2003.0  880456.0  9819.72   \n",
       "4  11446756    2.0   3.0  1491.0  6037.0     1955.0  107110.0  1399.27   \n",
       "\n",
       "   propertylandusetypeid  \n",
       "0                  261.0  \n",
       "1                  261.0  \n",
       "2                  261.0  \n",
       "3                  261.0  \n",
       "4                  261.0  "
      ]
     },
     "execution_count": 16,
     "metadata": {},
     "output_type": "execute_result"
    }
   ],
   "source": [
    "df.head()\n"
   ]
  },
  {
   "cell_type": "code",
   "execution_count": 17,
   "id": "e92d4508",
   "metadata": {},
   "outputs": [
    {
     "data": {
      "text/plain": [
       "261.0    28026\n",
       "263.0       28\n",
       "260.0        8\n",
       "264.0        3\n",
       "Name: propertylandusetypeid, dtype: int64"
      ]
     },
     "execution_count": 17,
     "metadata": {},
     "output_type": "execute_result"
    }
   ],
   "source": [
    "df['propertylandusetypeid'].value_counts()"
   ]
  },
  {
   "cell_type": "code",
   "execution_count": 18,
   "id": "36d03bf1",
   "metadata": {},
   "outputs": [
    {
     "name": "stdout",
     "output_type": "stream",
     "text": [
      "<class 'pandas.core.frame.DataFrame'>\n",
      "Int64Index: 28065 entries, 0 to 28184\n",
      "Data columns (total 9 columns):\n",
      " #   Column                 Non-Null Count  Dtype  \n",
      "---  ------                 --------------  -----  \n",
      " 0   parcelid               28065 non-null  int64  \n",
      " 1   baths                  28065 non-null  float64\n",
      " 2   beds                   28065 non-null  float64\n",
      " 3   sqrft                  28065 non-null  float64\n",
      " 4   county                 28065 non-null  float64\n",
      " 5   yearbuilt              28065 non-null  float64\n",
      " 6   taxval                 28065 non-null  float64\n",
      " 7   taxamt                 28065 non-null  float64\n",
      " 8   propertylandusetypeid  28065 non-null  float64\n",
      "dtypes: float64(8), int64(1)\n",
      "memory usage: 2.1 MB\n"
     ]
    }
   ],
   "source": [
    "df.info()"
   ]
  },
  {
   "cell_type": "code",
   "execution_count": null,
   "id": "e497806d",
   "metadata": {},
   "outputs": [],
   "source": []
  },
  {
   "cell_type": "code",
   "execution_count": 19,
   "id": "73503701",
   "metadata": {},
   "outputs": [],
   "source": [
    "def outlier_bound_calculation(df, variable):\n",
    "    '''\n",
    "    find lower and upper bounds to get outliers \n",
    "    '''\n",
    "    quartile1, quartile3 = np.percentile(df[variable], [25,75])\n",
    "    IQR_value = quartile3 - quartile1\n",
    "    lower_bound = quartile1 - (1.5 * IQR_value)\n",
    "    upper_bound = quartile3 + (1.5 * IQR_value)\n",
    "    '''\n",
    "    returns  lowerbound/upperbound \n",
    "    '''\n",
    "    return print(f'The lower bound for {variable} is {lower_bound} and the upper bound for {variable} is {upper_bound}')"
   ]
  },
  {
   "cell_type": "code",
   "execution_count": 20,
   "id": "33965dad",
   "metadata": {},
   "outputs": [
    {
     "name": "stdout",
     "output_type": "stream",
     "text": [
      "The lower bound for baths is 0.5 and the upper bound for baths is 4.5\n"
     ]
    }
   ],
   "source": [
    "outlier_bound_calculation(df, 'baths')"
   ]
  },
  {
   "cell_type": "code",
   "execution_count": 21,
   "id": "50e72385",
   "metadata": {},
   "outputs": [],
   "source": [
    "df= df[df.baths > 0.5]\n",
    "df= df[df.baths < 4.5]"
   ]
  },
  {
   "cell_type": "code",
   "execution_count": 22,
   "id": "8be67079",
   "metadata": {},
   "outputs": [
    {
     "name": "stdout",
     "output_type": "stream",
     "text": [
      "The lower bound for beds is 1.5 and the upper bound for beds is 5.5\n"
     ]
    }
   ],
   "source": [
    "outlier_bound_calculation(df, 'beds')"
   ]
  },
  {
   "cell_type": "code",
   "execution_count": 23,
   "id": "124e1166",
   "metadata": {},
   "outputs": [
    {
     "name": "stdout",
     "output_type": "stream",
     "text": [
      "The lower bound for sqrft is -152.5 and the upper bound for sqrft is 3619.5\n"
     ]
    }
   ],
   "source": [
    "outlier_bound_calculation(df, 'sqrft')"
   ]
  },
  {
   "cell_type": "code",
   "execution_count": 24,
   "id": "72c5ca31",
   "metadata": {},
   "outputs": [],
   "source": [
    "f= df[df.sqrft > -152.5]\n",
    "df= df[df.sqrft < 3619.5]"
   ]
  },
  {
   "cell_type": "code",
   "execution_count": 25,
   "id": "a13a09d6",
   "metadata": {},
   "outputs": [
    {
     "data": {
      "image/png": "[encoded data removed]",
      "text/plain": [
       "<Figure size 1152x288 with 3 Axes>"
      ]
     },
     "metadata": {
      "needs_background": "light"
     },
     "output_type": "display_data"
    }
   ],
   "source": [
    "# Plot \n",
    "plt.figure(figsize=(16, 4))\n",
    "\n",
    "# List of columns\n",
    "cols = ['beds','sqrft','baths']\n",
    "\n",
    "for i, col in enumerate(cols):\n",
    "\n",
    "    # i is 0, start plots at 1\n",
    "    plot_number = i + 1 \n",
    "\n",
    "    # make subplot\n",
    "    plt.subplot(1,4, plot_number)\n",
    "\n",
    "    # column names are titles\n",
    "    plt.title(col)\n",
    "\n",
    "    # show histogram for each column\n",
    "    df[col].hist(bins=5)\n"
   ]
  },
  {
   "cell_type": "code",
   "execution_count": null,
   "id": "a3b7a12b",
   "metadata": {},
   "outputs": [],
   "source": []
  },
  {
   "cell_type": "code",
   "execution_count": 26,
   "id": "6f4d942d",
   "metadata": {},
   "outputs": [
    {
     "data": {
      "text/html": [
       "<div>\n",
       "<style scoped>\n",
       "    .dataframe tbody tr th:only-of-type {\n",
       "        vertical-align: middle;\n",
       "    }\n",
       "\n",
       "    .dataframe tbody tr th {\n",
       "        vertical-align: top;\n",
       "    }\n",
       "\n",
       "    .dataframe thead th {\n",
       "        text-align: right;\n",
       "    }\n",
       "</style>\n",
       "<table border=\"1\" class=\"dataframe\">\n",
       "  <thead>\n",
       "    <tr style=\"text-align: right;\">\n",
       "      <th></th>\n",
       "      <th>parcelid</th>\n",
       "      <th>baths</th>\n",
       "      <th>beds</th>\n",
       "      <th>sqrft</th>\n",
       "      <th>county</th>\n",
       "      <th>yearbuilt</th>\n",
       "      <th>taxval</th>\n",
       "      <th>taxamt</th>\n",
       "      <th>propertylandusetypeid</th>\n",
       "    </tr>\n",
       "  </thead>\n",
       "  <tbody>\n",
       "    <tr>\n",
       "      <th>0</th>\n",
       "      <td>11721753</td>\n",
       "      <td>2.0</td>\n",
       "      <td>3.0</td>\n",
       "      <td>1316.0</td>\n",
       "      <td>6037.0</td>\n",
       "      <td>1923.0</td>\n",
       "      <td>205123.0</td>\n",
       "      <td>2627.48</td>\n",
       "      <td>261.0</td>\n",
       "    </tr>\n",
       "    <tr>\n",
       "      <th>1</th>\n",
       "      <td>11289917</td>\n",
       "      <td>2.0</td>\n",
       "      <td>3.0</td>\n",
       "      <td>1458.0</td>\n",
       "      <td>6037.0</td>\n",
       "      <td>1970.0</td>\n",
       "      <td>136104.0</td>\n",
       "      <td>2319.90</td>\n",
       "      <td>261.0</td>\n",
       "    </tr>\n",
       "    <tr>\n",
       "      <th>2</th>\n",
       "      <td>11705026</td>\n",
       "      <td>1.0</td>\n",
       "      <td>2.0</td>\n",
       "      <td>1421.0</td>\n",
       "      <td>6037.0</td>\n",
       "      <td>1911.0</td>\n",
       "      <td>35606.0</td>\n",
       "      <td>543.69</td>\n",
       "      <td>261.0</td>\n",
       "    </tr>\n",
       "  </tbody>\n",
       "</table>\n",
       "</div>"
      ],
      "text/plain": [
       "   parcelid  baths  beds   sqrft  county  yearbuilt    taxval   taxamt  \\\n",
       "0  11721753    2.0   3.0  1316.0  6037.0     1923.0  205123.0  2627.48   \n",
       "1  11289917    2.0   3.0  1458.0  6037.0     1970.0  136104.0  2319.90   \n",
       "2  11705026    1.0   2.0  1421.0  6037.0     1911.0   35606.0   543.69   \n",
       "\n",
       "   propertylandusetypeid  \n",
       "0                  261.0  \n",
       "1                  261.0  \n",
       "2                  261.0  "
      ]
     },
     "execution_count": 26,
     "metadata": {},
     "output_type": "execute_result"
    }
   ],
   "source": [
    "df.head(3)"
   ]
  },
  {
   "cell_type": "code",
   "execution_count": 27,
   "id": "340388e8",
   "metadata": {},
   "outputs": [],
   "source": [
    "def split_continuous(df):\n",
    "    '''\n",
    "    uses a data frame to create the train, validate, and test DataFrames needed\n",
    "    '''\n",
    "    # makes the train, validate and test\n",
    "    train_validate, test = train_test_split(df, \n",
    "                                        test_size=.2, \n",
    "                                        random_state=123)\n",
    "    # makes train and validate\n",
    "    train, validate = train_test_split(train_validate, \n",
    "                                   test_size=.3, \n",
    "                                   random_state=123)\n",
    "    return train, validate, test"
   ]
  },
  {
   "cell_type": "code",
   "execution_count": 28,
   "id": "86ee9c5d",
   "metadata": {},
   "outputs": [],
   "source": [
    "# the data gets split into train, validate and test\n",
    "train, test = train_test_split(df, test_size = 0.2, random_state = 1349)\n",
    "train, validate = train_test_split(train, test_size = 0.25, random_state = 1349)"
   ]
  },
  {
   "cell_type": "code",
   "execution_count": 29,
   "id": "f18cdcbe",
   "metadata": {},
   "outputs": [
    {
     "data": {
      "text/plain": [
       "((15717, 9), (5239, 9), (5240, 9))"
      ]
     },
     "execution_count": 29,
     "metadata": {},
     "output_type": "execute_result"
    }
   ],
   "source": [
    "#verify the new shape\n",
    "train.shape, validate.shape, test.shape"
   ]
  },
  {
   "cell_type": "code",
   "execution_count": 30,
   "id": "a0ec0827",
   "metadata": {},
   "outputs": [
    {
     "data": {
      "text/html": [
       "<div>\n",
       "<style scoped>\n",
       "    .dataframe tbody tr th:only-of-type {\n",
       "        vertical-align: middle;\n",
       "    }\n",
       "\n",
       "    .dataframe tbody tr th {\n",
       "        vertical-align: top;\n",
       "    }\n",
       "\n",
       "    .dataframe thead th {\n",
       "        text-align: right;\n",
       "    }\n",
       "</style>\n",
       "<table border=\"1\" class=\"dataframe\">\n",
       "  <thead>\n",
       "    <tr style=\"text-align: right;\">\n",
       "      <th></th>\n",
       "      <th>parcelid</th>\n",
       "      <th>baths</th>\n",
       "      <th>beds</th>\n",
       "      <th>sqrft</th>\n",
       "      <th>county</th>\n",
       "      <th>yearbuilt</th>\n",
       "      <th>taxval</th>\n",
       "      <th>taxamt</th>\n",
       "      <th>propertylandusetypeid</th>\n",
       "    </tr>\n",
       "  </thead>\n",
       "  <tbody>\n",
       "    <tr>\n",
       "      <th>22934</th>\n",
       "      <td>11707491</td>\n",
       "      <td>1.0</td>\n",
       "      <td>2.0</td>\n",
       "      <td>1056.0</td>\n",
       "      <td>6037.0</td>\n",
       "      <td>1912.0</td>\n",
       "      <td>162078.0</td>\n",
       "      <td>2054.33</td>\n",
       "      <td>261.0</td>\n",
       "    </tr>\n",
       "    <tr>\n",
       "      <th>6379</th>\n",
       "      <td>13029067</td>\n",
       "      <td>2.0</td>\n",
       "      <td>3.0</td>\n",
       "      <td>1647.0</td>\n",
       "      <td>6037.0</td>\n",
       "      <td>1956.0</td>\n",
       "      <td>400436.0</td>\n",
       "      <td>4984.65</td>\n",
       "      <td>261.0</td>\n",
       "    </tr>\n",
       "    <tr>\n",
       "      <th>10837</th>\n",
       "      <td>17125619</td>\n",
       "      <td>1.0</td>\n",
       "      <td>2.0</td>\n",
       "      <td>886.0</td>\n",
       "      <td>6111.0</td>\n",
       "      <td>1940.0</td>\n",
       "      <td>435000.0</td>\n",
       "      <td>4642.44</td>\n",
       "      <td>261.0</td>\n",
       "    </tr>\n",
       "    <tr>\n",
       "      <th>9630</th>\n",
       "      <td>13015375</td>\n",
       "      <td>2.0</td>\n",
       "      <td>3.0</td>\n",
       "      <td>1465.0</td>\n",
       "      <td>6037.0</td>\n",
       "      <td>1960.0</td>\n",
       "      <td>274408.0</td>\n",
       "      <td>3424.54</td>\n",
       "      <td>261.0</td>\n",
       "    </tr>\n",
       "    <tr>\n",
       "      <th>6005</th>\n",
       "      <td>11832235</td>\n",
       "      <td>1.0</td>\n",
       "      <td>2.0</td>\n",
       "      <td>1128.0</td>\n",
       "      <td>6037.0</td>\n",
       "      <td>1950.0</td>\n",
       "      <td>43854.0</td>\n",
       "      <td>845.79</td>\n",
       "      <td>261.0</td>\n",
       "    </tr>\n",
       "  </tbody>\n",
       "</table>\n",
       "</div>"
      ],
      "text/plain": [
       "       parcelid  baths  beds   sqrft  county  yearbuilt    taxval   taxamt  \\\n",
       "22934  11707491    1.0   2.0  1056.0  6037.0     1912.0  162078.0  2054.33   \n",
       "6379   13029067    2.0   3.0  1647.0  6037.0     1956.0  400436.0  4984.65   \n",
       "10837  17125619    1.0   2.0   886.0  6111.0     1940.0  435000.0  4642.44   \n",
       "9630   13015375    2.0   3.0  1465.0  6037.0     1960.0  274408.0  3424.54   \n",
       "6005   11832235    1.0   2.0  1128.0  6037.0     1950.0   43854.0   845.79   \n",
       "\n",
       "       propertylandusetypeid  \n",
       "22934                  261.0  \n",
       "6379                   261.0  \n",
       "10837                  261.0  \n",
       "9630                   261.0  \n",
       "6005                   261.0  "
      ]
     },
     "execution_count": 30,
     "metadata": {},
     "output_type": "execute_result"
    }
   ],
   "source": [
    "train.head()"
   ]
  },
  {
   "cell_type": "code",
   "execution_count": 31,
   "id": "2ea94c4d",
   "metadata": {},
   "outputs": [],
   "source": [
    "def split_target(train, validate, test, taxval):\n",
    "    # split train into X dropping taxval and set y to taxval\n",
    "    X_train = train.drop(columns=['taxval'])\n",
    "    y_train = train['taxval']\n",
    "\n",
    "    # split train into X dropping taxval and set y to taxval\n",
    "    X_validate = validate.drop(columns=['taxval'])\n",
    "    y_validate = validate['taxval']\n",
    "\n",
    "    # split train into X dropping taxval and set y to taxval\n",
    "    X_test = test.drop(columns=['taxval'])\n",
    "    y_test = test['taxval']\n",
    "\n",
    "    return X_train, y_train, X_validate, y_validate, X_test, y_test"
   ]
  },
  {
   "cell_type": "code",
   "execution_count": 32,
   "id": "fecee46e",
   "metadata": {},
   "outputs": [],
   "source": [
    "X_train, y_train, X_validate, y_validate, X_test, y_test=split_target(train, validate, test, 'taxval')"
   ]
  },
  {
   "cell_type": "code",
   "execution_count": null,
   "id": "a0be1e41",
   "metadata": {},
   "outputs": [],
   "source": []
  },
  {
   "cell_type": "code",
   "execution_count": 33,
   "id": "cd9a0a9c",
   "metadata": {},
   "outputs": [],
   "source": [
    "numeric_cols = ['sqrft', 'taxamt']"
   ]
  },
  {
   "cell_type": "code",
   "execution_count": 34,
   "id": "cbdf39ce",
   "metadata": {},
   "outputs": [],
   "source": [
    "def min_max_scale(X_train, X_validate, X_test, numeric_cols):\n",
    "    \"\"\"\n",
    "    takes in the three dataframes with column names,\n",
    "    scaler only takes numeric columns,so a list of numeric column names,\n",
    "    uses min/max scaler on first data frame and then transforms the other dataframes according to that scale\n",
    "    returns three dataframes with the same column names and scaled values.\n",
    "    \"\"\"\n",
    "    # identify min and max\n",
    "    \n",
    "    scaler = MinMaxScaler(copy=True).fit(X_train[numeric_cols])\n",
    "\n",
    "    # scale X_train, X_validate, X_test using the mins and maxes stored in the scaler derived from X_train.\n",
    "    #\n",
    "    X_train_scaled_array = scaler.transform(X_train[numeric_cols])\n",
    "    X_validate_scaled_array = scaler.transform(X_validate[numeric_cols])\n",
    "    X_test_scaled_array = scaler.transform(X_test[numeric_cols])\n",
    "\n",
    "    # convert to dataframes\n",
    "    X_train_scaled = pd.DataFrame(X_train_scaled_array, columns=numeric_cols).set_index(\n",
    "        [X_train.index.values]\n",
    "    )\n",
    "\n",
    "    X_validate_scaled = pd.DataFrame(\n",
    "        X_validate_scaled_array, columns=numeric_cols\n",
    "    ).set_index([X_validate.index.values])\n",
    "\n",
    "    X_test_scaled = pd.DataFrame(X_test_scaled_array, columns=numeric_cols).set_index(\n",
    "        [X_test.index.values]\n",
    "    )\n",
    "    \n",
    "    return X_train_scaled, X_validate_scaled, X_test_scaled"
   ]
  },
  {
   "cell_type": "code",
   "execution_count": 35,
   "id": "d26ba282",
   "metadata": {},
   "outputs": [],
   "source": [
    "X_train_scaled, X_validate_scaled, X_test_scaled= min_max_scale(X_train, X_validate, X_test, numeric_cols)"
   ]
  },
  {
   "cell_type": "code",
   "execution_count": 36,
   "id": "53fc762c",
   "metadata": {},
   "outputs": [
    {
     "data": {
      "text/plain": [
       "((15717, 2), (5239, 2), (5240, 2))"
      ]
     },
     "execution_count": 36,
     "metadata": {},
     "output_type": "execute_result"
    }
   ],
   "source": [
    "X_train_scaled.shape, X_validate_scaled.shape, X_test_scaled.shape"
   ]
  },
  {
   "cell_type": "code",
   "execution_count": 37,
   "id": "82a09f24",
   "metadata": {},
   "outputs": [
    {
     "data": {
      "text/html": [
       "<div>\n",
       "<style scoped>\n",
       "    .dataframe tbody tr th:only-of-type {\n",
       "        vertical-align: middle;\n",
       "    }\n",
       "\n",
       "    .dataframe tbody tr th {\n",
       "        vertical-align: top;\n",
       "    }\n",
       "\n",
       "    .dataframe thead th {\n",
       "        text-align: right;\n",
       "    }\n",
       "</style>\n",
       "<table border=\"1\" class=\"dataframe\">\n",
       "  <thead>\n",
       "    <tr style=\"text-align: right;\">\n",
       "      <th></th>\n",
       "      <th>sqrft</th>\n",
       "      <th>taxamt</th>\n",
       "    </tr>\n",
       "  </thead>\n",
       "  <tbody>\n",
       "    <tr>\n",
       "      <th>22934</th>\n",
       "      <td>0.241635</td>\n",
       "      <td>0.018212</td>\n",
       "    </tr>\n",
       "    <tr>\n",
       "      <th>6379</th>\n",
       "      <td>0.416642</td>\n",
       "      <td>0.044996</td>\n",
       "    </tr>\n",
       "    <tr>\n",
       "      <th>10837</th>\n",
       "      <td>0.191294</td>\n",
       "      <td>0.041868</td>\n",
       "    </tr>\n",
       "    <tr>\n",
       "      <th>9630</th>\n",
       "      <td>0.362748</td>\n",
       "      <td>0.030736</td>\n",
       "    </tr>\n",
       "    <tr>\n",
       "      <th>6005</th>\n",
       "      <td>0.262955</td>\n",
       "      <td>0.007166</td>\n",
       "    </tr>\n",
       "    <tr>\n",
       "      <th>...</th>\n",
       "      <td>...</td>\n",
       "      <td>...</td>\n",
       "    </tr>\n",
       "    <tr>\n",
       "      <th>10446</th>\n",
       "      <td>0.197809</td>\n",
       "      <td>0.010734</td>\n",
       "    </tr>\n",
       "    <tr>\n",
       "      <th>26676</th>\n",
       "      <td>0.335209</td>\n",
       "      <td>0.015556</td>\n",
       "    </tr>\n",
       "    <tr>\n",
       "      <th>25459</th>\n",
       "      <td>0.304412</td>\n",
       "      <td>0.007049</td>\n",
       "    </tr>\n",
       "    <tr>\n",
       "      <th>10339</th>\n",
       "      <td>0.370743</td>\n",
       "      <td>0.031886</td>\n",
       "    </tr>\n",
       "    <tr>\n",
       "      <th>25495</th>\n",
       "      <td>0.375481</td>\n",
       "      <td>0.015368</td>\n",
       "    </tr>\n",
       "  </tbody>\n",
       "</table>\n",
       "<p>15717 rows × 2 columns</p>\n",
       "</div>"
      ],
      "text/plain": [
       "          sqrft    taxamt\n",
       "22934  0.241635  0.018212\n",
       "6379   0.416642  0.044996\n",
       "10837  0.191294  0.041868\n",
       "9630   0.362748  0.030736\n",
       "6005   0.262955  0.007166\n",
       "...         ...       ...\n",
       "10446  0.197809  0.010734\n",
       "26676  0.335209  0.015556\n",
       "25459  0.304412  0.007049\n",
       "10339  0.370743  0.031886\n",
       "25495  0.375481  0.015368\n",
       "\n",
       "[15717 rows x 2 columns]"
      ]
     },
     "execution_count": 37,
     "metadata": {},
     "output_type": "execute_result"
    }
   ],
   "source": [
    "X_train_scaled"
   ]
  },
  {
   "cell_type": "markdown",
   "id": "028c6aa5",
   "metadata": {},
   "source": [
    "EXPLORE"
   ]
  },
  {
   "cell_type": "code",
   "execution_count": 38,
   "id": "59a08376",
   "metadata": {},
   "outputs": [
    {
     "data": {
      "text/plain": [
       "<AxesSubplot:xlabel='taxval'>"
      ]
     },
     "execution_count": 38,
     "metadata": {},
     "output_type": "execute_result"
    },
    {
     "data": {
      "image/png": "[encoded data removed]",
      "text/plain": [
       "<Figure size 1152x720 with 1 Axes>"
      ]
     },
     "metadata": {
      "needs_background": "light"
     },
     "output_type": "display_data"
    }
   ],
   "source": [
    "plt.figure(figsize=(16, 10))\n",
    "sns.boxplot(train['taxval'])"
   ]
  },
  {
   "cell_type": "code",
   "execution_count": 39,
   "id": "979afeec",
   "metadata": {},
   "outputs": [
    {
     "data": {
      "text/html": [
       "<div>\n",
       "<style scoped>\n",
       "    .dataframe tbody tr th:only-of-type {\n",
       "        vertical-align: middle;\n",
       "    }\n",
       "\n",
       "    .dataframe tbody tr th {\n",
       "        vertical-align: top;\n",
       "    }\n",
       "\n",
       "    .dataframe thead th {\n",
       "        text-align: right;\n",
       "    }\n",
       "</style>\n",
       "<table border=\"1\" class=\"dataframe\">\n",
       "  <thead>\n",
       "    <tr style=\"text-align: right;\">\n",
       "      <th></th>\n",
       "      <th>baths</th>\n",
       "      <th>beds</th>\n",
       "      <th>sqrft</th>\n",
       "      <th>county</th>\n",
       "      <th>yearbuilt</th>\n",
       "      <th>taxval</th>\n",
       "      <th>taxamt</th>\n",
       "    </tr>\n",
       "  </thead>\n",
       "  <tbody>\n",
       "    <tr>\n",
       "      <th>22934</th>\n",
       "      <td>1.0</td>\n",
       "      <td>2.0</td>\n",
       "      <td>1056.0</td>\n",
       "      <td>6037.0</td>\n",
       "      <td>1912.0</td>\n",
       "      <td>162078.0</td>\n",
       "      <td>2054.33</td>\n",
       "    </tr>\n",
       "    <tr>\n",
       "      <th>6379</th>\n",
       "      <td>2.0</td>\n",
       "      <td>3.0</td>\n",
       "      <td>1647.0</td>\n",
       "      <td>6037.0</td>\n",
       "      <td>1956.0</td>\n",
       "      <td>400436.0</td>\n",
       "      <td>4984.65</td>\n",
       "    </tr>\n",
       "    <tr>\n",
       "      <th>10837</th>\n",
       "      <td>1.0</td>\n",
       "      <td>2.0</td>\n",
       "      <td>886.0</td>\n",
       "      <td>6111.0</td>\n",
       "      <td>1940.0</td>\n",
       "      <td>435000.0</td>\n",
       "      <td>4642.44</td>\n",
       "    </tr>\n",
       "    <tr>\n",
       "      <th>9630</th>\n",
       "      <td>2.0</td>\n",
       "      <td>3.0</td>\n",
       "      <td>1465.0</td>\n",
       "      <td>6037.0</td>\n",
       "      <td>1960.0</td>\n",
       "      <td>274408.0</td>\n",
       "      <td>3424.54</td>\n",
       "    </tr>\n",
       "    <tr>\n",
       "      <th>6005</th>\n",
       "      <td>1.0</td>\n",
       "      <td>2.0</td>\n",
       "      <td>1128.0</td>\n",
       "      <td>6037.0</td>\n",
       "      <td>1950.0</td>\n",
       "      <td>43854.0</td>\n",
       "      <td>845.79</td>\n",
       "    </tr>\n",
       "    <tr>\n",
       "      <th>...</th>\n",
       "      <td>...</td>\n",
       "      <td>...</td>\n",
       "      <td>...</td>\n",
       "      <td>...</td>\n",
       "      <td>...</td>\n",
       "      <td>...</td>\n",
       "      <td>...</td>\n",
       "    </tr>\n",
       "    <tr>\n",
       "      <th>10446</th>\n",
       "      <td>1.0</td>\n",
       "      <td>2.0</td>\n",
       "      <td>908.0</td>\n",
       "      <td>6037.0</td>\n",
       "      <td>1913.0</td>\n",
       "      <td>83774.0</td>\n",
       "      <td>1236.23</td>\n",
       "    </tr>\n",
       "    <tr>\n",
       "      <th>26676</th>\n",
       "      <td>1.0</td>\n",
       "      <td>3.0</td>\n",
       "      <td>1372.0</td>\n",
       "      <td>6037.0</td>\n",
       "      <td>1926.0</td>\n",
       "      <td>139503.0</td>\n",
       "      <td>1763.72</td>\n",
       "    </tr>\n",
       "    <tr>\n",
       "      <th>25459</th>\n",
       "      <td>2.0</td>\n",
       "      <td>3.0</td>\n",
       "      <td>1268.0</td>\n",
       "      <td>6059.0</td>\n",
       "      <td>1954.0</td>\n",
       "      <td>51933.0</td>\n",
       "      <td>833.08</td>\n",
       "    </tr>\n",
       "    <tr>\n",
       "      <th>10339</th>\n",
       "      <td>2.5</td>\n",
       "      <td>3.0</td>\n",
       "      <td>1492.0</td>\n",
       "      <td>6059.0</td>\n",
       "      <td>1989.0</td>\n",
       "      <td>352440.0</td>\n",
       "      <td>3550.40</td>\n",
       "    </tr>\n",
       "    <tr>\n",
       "      <th>25495</th>\n",
       "      <td>2.5</td>\n",
       "      <td>3.0</td>\n",
       "      <td>1508.0</td>\n",
       "      <td>6059.0</td>\n",
       "      <td>1965.0</td>\n",
       "      <td>110942.0</td>\n",
       "      <td>1743.22</td>\n",
       "    </tr>\n",
       "  </tbody>\n",
       "</table>\n",
       "<p>15717 rows × 7 columns</p>\n",
       "</div>"
      ],
      "text/plain": [
       "       baths  beds   sqrft  county  yearbuilt    taxval   taxamt\n",
       "22934    1.0   2.0  1056.0  6037.0     1912.0  162078.0  2054.33\n",
       "6379     2.0   3.0  1647.0  6037.0     1956.0  400436.0  4984.65\n",
       "10837    1.0   2.0   886.0  6111.0     1940.0  435000.0  4642.44\n",
       "9630     2.0   3.0  1465.0  6037.0     1960.0  274408.0  3424.54\n",
       "6005     1.0   2.0  1128.0  6037.0     1950.0   43854.0   845.79\n",
       "...      ...   ...     ...     ...        ...       ...      ...\n",
       "10446    1.0   2.0   908.0  6037.0     1913.0   83774.0  1236.23\n",
       "26676    1.0   3.0  1372.0  6037.0     1926.0  139503.0  1763.72\n",
       "25459    2.0   3.0  1268.0  6059.0     1954.0   51933.0   833.08\n",
       "10339    2.5   3.0  1492.0  6059.0     1989.0  352440.0  3550.40\n",
       "25495    2.5   3.0  1508.0  6059.0     1965.0  110942.0  1743.22\n",
       "\n",
       "[15717 rows x 7 columns]"
      ]
     },
     "execution_count": 39,
     "metadata": {},
     "output_type": "execute_result"
    }
   ],
   "source": [
    "df_corr = train.drop(columns=['parcelid', 'propertylandusetypeid'])\n",
    "df_corr"
   ]
  },
  {
   "cell_type": "markdown",
   "id": "6a01e67f",
   "metadata": {},
   "source": [
    "KBEST"
   ]
  },
  {
   "cell_type": "code",
   "execution_count": 40,
   "id": "004c329d",
   "metadata": {},
   "outputs": [
    {
     "data": {
      "text/plain": [
       "SelectKBest(k=2, score_func=<function f_regression at 0x7f8963987310>)"
      ]
     },
     "execution_count": 40,
     "metadata": {},
     "output_type": "execute_result"
    }
   ],
   "source": [
    "f_selector = SelectKBest(score_func=f_regression, k=2)\n",
    "f_selector.fit(X_train_scaled, y_train)"
   ]
  },
  {
   "cell_type": "code",
   "execution_count": 41,
   "id": "001b24cc",
   "metadata": {},
   "outputs": [
    {
     "data": {
      "text/plain": [
       "Index(['sqrft', 'taxamt'], dtype='object')"
      ]
     },
     "execution_count": 41,
     "metadata": {},
     "output_type": "execute_result"
    }
   ],
   "source": [
    "mask = f_selector.get_support()\n",
    "X_train_scaled.columns[mask]"
   ]
  },
  {
   "cell_type": "code",
   "execution_count": 42,
   "id": "ea545ea7",
   "metadata": {},
   "outputs": [],
   "source": [
    "X_train_kbest = f_selector.transform(X_train_scaled)\n",
    "model = LinearRegression().fit(X_train_kbest, y_train)"
   ]
  },
  {
   "cell_type": "markdown",
   "id": "c7d629e2",
   "metadata": {},
   "source": [
    "T-TEST\n",
    "There is not a correlation between tax value and square footage\n",
    "There is a correlation between tax value and squarae footage"
   ]
  },
  {
   "cell_type": "code",
   "execution_count": 43,
   "id": "f3746cf6",
   "metadata": {},
   "outputs": [],
   "source": [
    "#alpha\n",
    "alpha = 0.05"
   ]
  },
  {
   "cell_type": "code",
   "execution_count": 44,
   "id": "c8c9f36b",
   "metadata": {},
   "outputs": [
    {
     "data": {
      "text/html": [
       "<div>\n",
       "<style scoped>\n",
       "    .dataframe tbody tr th:only-of-type {\n",
       "        vertical-align: middle;\n",
       "    }\n",
       "\n",
       "    .dataframe tbody tr th {\n",
       "        vertical-align: top;\n",
       "    }\n",
       "\n",
       "    .dataframe thead th {\n",
       "        text-align: right;\n",
       "    }\n",
       "</style>\n",
       "<table border=\"1\" class=\"dataframe\">\n",
       "  <thead>\n",
       "    <tr style=\"text-align: right;\">\n",
       "      <th></th>\n",
       "      <th>parcelid</th>\n",
       "      <th>baths</th>\n",
       "      <th>beds</th>\n",
       "      <th>sqrft</th>\n",
       "      <th>county</th>\n",
       "      <th>yearbuilt</th>\n",
       "      <th>taxval</th>\n",
       "      <th>taxamt</th>\n",
       "      <th>propertylandusetypeid</th>\n",
       "    </tr>\n",
       "  </thead>\n",
       "  <tbody>\n",
       "    <tr>\n",
       "      <th>0</th>\n",
       "      <td>11721753</td>\n",
       "      <td>2.0</td>\n",
       "      <td>3.0</td>\n",
       "      <td>1316.0</td>\n",
       "      <td>6037.0</td>\n",
       "      <td>1923.0</td>\n",
       "      <td>205123.0</td>\n",
       "      <td>2627.48</td>\n",
       "      <td>261.0</td>\n",
       "    </tr>\n",
       "    <tr>\n",
       "      <th>1</th>\n",
       "      <td>11289917</td>\n",
       "      <td>2.0</td>\n",
       "      <td>3.0</td>\n",
       "      <td>1458.0</td>\n",
       "      <td>6037.0</td>\n",
       "      <td>1970.0</td>\n",
       "      <td>136104.0</td>\n",
       "      <td>2319.90</td>\n",
       "      <td>261.0</td>\n",
       "    </tr>\n",
       "    <tr>\n",
       "      <th>2</th>\n",
       "      <td>11705026</td>\n",
       "      <td>1.0</td>\n",
       "      <td>2.0</td>\n",
       "      <td>1421.0</td>\n",
       "      <td>6037.0</td>\n",
       "      <td>1911.0</td>\n",
       "      <td>35606.0</td>\n",
       "      <td>543.69</td>\n",
       "      <td>261.0</td>\n",
       "    </tr>\n",
       "    <tr>\n",
       "      <th>3</th>\n",
       "      <td>14269464</td>\n",
       "      <td>3.0</td>\n",
       "      <td>4.0</td>\n",
       "      <td>2541.0</td>\n",
       "      <td>6059.0</td>\n",
       "      <td>2003.0</td>\n",
       "      <td>880456.0</td>\n",
       "      <td>9819.72</td>\n",
       "      <td>261.0</td>\n",
       "    </tr>\n",
       "    <tr>\n",
       "      <th>4</th>\n",
       "      <td>11446756</td>\n",
       "      <td>2.0</td>\n",
       "      <td>3.0</td>\n",
       "      <td>1491.0</td>\n",
       "      <td>6037.0</td>\n",
       "      <td>1955.0</td>\n",
       "      <td>107110.0</td>\n",
       "      <td>1399.27</td>\n",
       "      <td>261.0</td>\n",
       "    </tr>\n",
       "  </tbody>\n",
       "</table>\n",
       "</div>"
      ],
      "text/plain": [
       "   parcelid  baths  beds   sqrft  county  yearbuilt    taxval   taxamt  \\\n",
       "0  11721753    2.0   3.0  1316.0  6037.0     1923.0  205123.0  2627.48   \n",
       "1  11289917    2.0   3.0  1458.0  6037.0     1970.0  136104.0  2319.90   \n",
       "2  11705026    1.0   2.0  1421.0  6037.0     1911.0   35606.0   543.69   \n",
       "3  14269464    3.0   4.0  2541.0  6059.0     2003.0  880456.0  9819.72   \n",
       "4  11446756    2.0   3.0  1491.0  6037.0     1955.0  107110.0  1399.27   \n",
       "\n",
       "   propertylandusetypeid  \n",
       "0                  261.0  \n",
       "1                  261.0  \n",
       "2                  261.0  \n",
       "3                  261.0  \n",
       "4                  261.0  "
      ]
     },
     "execution_count": 44,
     "metadata": {},
     "output_type": "execute_result"
    }
   ],
   "source": [
    "df.head()"
   ]
  },
  {
   "cell_type": "code",
   "execution_count": 45,
   "id": "39d089f8",
   "metadata": {},
   "outputs": [],
   "source": [
    "t, p = stats.ttest_ind(train.taxval,train.sqrft, equal_var=False)"
   ]
  },
  {
   "cell_type": "code",
   "execution_count": 92,
   "id": "5aa1a274",
   "metadata": {},
   "outputs": [
    {
     "data": {
      "text/plain": [
       "True"
      ]
     },
     "execution_count": 92,
     "metadata": {},
     "output_type": "execute_result"
    }
   ],
   "source": [
    "# p check\n",
    "\n",
    "p<alpha"
   ]
  },
  {
   "cell_type": "code",
   "execution_count": 47,
   "id": "7ccd264a",
   "metadata": {},
   "outputs": [],
   "source": [
    "# P is less than alpha, so we reject the null hypothesis"
   ]
  },
  {
   "cell_type": "markdown",
   "id": "52a4b8b9",
   "metadata": {},
   "source": [
    "CORRELATION TEST\n",
    "There is no correlation between bedroom count and tax value\n",
    "There is a correlation between bedroom count and tax value"
   ]
  },
  {
   "cell_type": "code",
   "execution_count": 48,
   "id": "bdbd531f",
   "metadata": {},
   "outputs": [],
   "source": [
    "x = df['taxval']\n",
    "y = df['beds']"
   ]
  },
  {
   "cell_type": "code",
   "execution_count": 49,
   "id": "df1d15f1",
   "metadata": {},
   "outputs": [],
   "source": [
    "\n",
    "r, p = stats.pearsonr(x, y)"
   ]
  },
  {
   "cell_type": "code",
   "execution_count": 50,
   "id": "ab577d54",
   "metadata": {},
   "outputs": [
    {
     "data": {
      "text/plain": [
       "True"
      ]
     },
     "execution_count": 50,
     "metadata": {},
     "output_type": "execute_result"
    }
   ],
   "source": [
    "p<alpha"
   ]
  },
  {
   "cell_type": "code",
   "execution_count": 51,
   "id": "2b3b99bc",
   "metadata": {},
   "outputs": [],
   "source": [
    "#p is less than alpha, so we reject the null"
   ]
  },
  {
   "cell_type": "code",
   "execution_count": 52,
   "id": "196c71fd",
   "metadata": {},
   "outputs": [],
   "source": [
    "x2 = df['taxval']\n",
    "y2 = df['baths']"
   ]
  },
  {
   "cell_type": "code",
   "execution_count": 53,
   "id": "fc1dec1c",
   "metadata": {},
   "outputs": [],
   "source": [
    "r, p = stats.pearsonr(x2, y2)"
   ]
  },
  {
   "cell_type": "code",
   "execution_count": 54,
   "id": "28fa12f7",
   "metadata": {},
   "outputs": [
    {
     "data": {
      "text/plain": [
       "True"
      ]
     },
     "execution_count": 54,
     "metadata": {},
     "output_type": "execute_result"
    }
   ],
   "source": [
    "p<alpha"
   ]
  },
  {
   "cell_type": "code",
   "execution_count": 55,
   "id": "f89b052a",
   "metadata": {},
   "outputs": [],
   "source": [
    "#p is less than alpha so we reject the null\n",
    "#mvp is related to price"
   ]
  },
  {
   "cell_type": "code",
   "execution_count": 56,
   "id": "4cc7ba1f",
   "metadata": {},
   "outputs": [],
   "source": [
    "#mvp drivers baths, beds, sqft"
   ]
  },
  {
   "cell_type": "code",
   "execution_count": 57,
   "id": "08fb67a5",
   "metadata": {},
   "outputs": [
    {
     "data": {
      "text/html": [
       "<div>\n",
       "<style scoped>\n",
       "    .dataframe tbody tr th:only-of-type {\n",
       "        vertical-align: middle;\n",
       "    }\n",
       "\n",
       "    .dataframe tbody tr th {\n",
       "        vertical-align: top;\n",
       "    }\n",
       "\n",
       "    .dataframe thead th {\n",
       "        text-align: right;\n",
       "    }\n",
       "</style>\n",
       "<table border=\"1\" class=\"dataframe\">\n",
       "  <thead>\n",
       "    <tr style=\"text-align: right;\">\n",
       "      <th></th>\n",
       "      <th>parcelid</th>\n",
       "      <th>baths</th>\n",
       "      <th>beds</th>\n",
       "      <th>sqrft</th>\n",
       "      <th>county</th>\n",
       "      <th>yearbuilt</th>\n",
       "      <th>taxval</th>\n",
       "      <th>taxamt</th>\n",
       "      <th>propertylandusetypeid</th>\n",
       "    </tr>\n",
       "  </thead>\n",
       "  <tbody>\n",
       "    <tr>\n",
       "      <th>0</th>\n",
       "      <td>11721753</td>\n",
       "      <td>2.0</td>\n",
       "      <td>3.0</td>\n",
       "      <td>1316.0</td>\n",
       "      <td>6037.0</td>\n",
       "      <td>1923.0</td>\n",
       "      <td>205123.0</td>\n",
       "      <td>2627.48</td>\n",
       "      <td>261.0</td>\n",
       "    </tr>\n",
       "    <tr>\n",
       "      <th>1</th>\n",
       "      <td>11289917</td>\n",
       "      <td>2.0</td>\n",
       "      <td>3.0</td>\n",
       "      <td>1458.0</td>\n",
       "      <td>6037.0</td>\n",
       "      <td>1970.0</td>\n",
       "      <td>136104.0</td>\n",
       "      <td>2319.90</td>\n",
       "      <td>261.0</td>\n",
       "    </tr>\n",
       "    <tr>\n",
       "      <th>2</th>\n",
       "      <td>11705026</td>\n",
       "      <td>1.0</td>\n",
       "      <td>2.0</td>\n",
       "      <td>1421.0</td>\n",
       "      <td>6037.0</td>\n",
       "      <td>1911.0</td>\n",
       "      <td>35606.0</td>\n",
       "      <td>543.69</td>\n",
       "      <td>261.0</td>\n",
       "    </tr>\n",
       "    <tr>\n",
       "      <th>3</th>\n",
       "      <td>14269464</td>\n",
       "      <td>3.0</td>\n",
       "      <td>4.0</td>\n",
       "      <td>2541.0</td>\n",
       "      <td>6059.0</td>\n",
       "      <td>2003.0</td>\n",
       "      <td>880456.0</td>\n",
       "      <td>9819.72</td>\n",
       "      <td>261.0</td>\n",
       "    </tr>\n",
       "    <tr>\n",
       "      <th>4</th>\n",
       "      <td>11446756</td>\n",
       "      <td>2.0</td>\n",
       "      <td>3.0</td>\n",
       "      <td>1491.0</td>\n",
       "      <td>6037.0</td>\n",
       "      <td>1955.0</td>\n",
       "      <td>107110.0</td>\n",
       "      <td>1399.27</td>\n",
       "      <td>261.0</td>\n",
       "    </tr>\n",
       "  </tbody>\n",
       "</table>\n",
       "</div>"
      ],
      "text/plain": [
       "   parcelid  baths  beds   sqrft  county  yearbuilt    taxval   taxamt  \\\n",
       "0  11721753    2.0   3.0  1316.0  6037.0     1923.0  205123.0  2627.48   \n",
       "1  11289917    2.0   3.0  1458.0  6037.0     1970.0  136104.0  2319.90   \n",
       "2  11705026    1.0   2.0  1421.0  6037.0     1911.0   35606.0   543.69   \n",
       "3  14269464    3.0   4.0  2541.0  6059.0     2003.0  880456.0  9819.72   \n",
       "4  11446756    2.0   3.0  1491.0  6037.0     1955.0  107110.0  1399.27   \n",
       "\n",
       "   propertylandusetypeid  \n",
       "0                  261.0  \n",
       "1                  261.0  \n",
       "2                  261.0  \n",
       "3                  261.0  \n",
       "4                  261.0  "
      ]
     },
     "execution_count": 57,
     "metadata": {},
     "output_type": "execute_result"
    }
   ],
   "source": [
    "df.head()"
   ]
  },
  {
   "cell_type": "markdown",
   "id": "136bac84",
   "metadata": {},
   "source": [
    "MODELING"
   ]
  },
  {
   "cell_type": "code",
   "execution_count": 58,
   "id": "7fc9d71c",
   "metadata": {},
   "outputs": [],
   "source": [
    "#start testing the data in models"
   ]
  },
  {
   "cell_type": "code",
   "execution_count": 59,
   "id": "5ab36822",
   "metadata": {},
   "outputs": [
    {
     "data": {
      "text/plain": [
       "22934    162078.0\n",
       "6379     400436.0\n",
       "10837    435000.0\n",
       "9630     274408.0\n",
       "6005      43854.0\n",
       "Name: taxval, dtype: float64"
      ]
     },
     "execution_count": 59,
     "metadata": {},
     "output_type": "execute_result"
    }
   ],
   "source": [
    "y_train.head()"
   ]
  },
  {
   "cell_type": "markdown",
   "id": "65483c83",
   "metadata": {},
   "source": [
    "BASELINE"
   ]
  },
  {
   "cell_type": "code",
   "execution_count": 60,
   "id": "0ab1c8b7",
   "metadata": {},
   "outputs": [
    {
     "data": {
      "image/png": "[encoded data removed]",
      "text/plain": [
       "<Figure size 432x288 with 1 Axes>"
      ]
     },
     "metadata": {
      "needs_background": "light"
     },
     "output_type": "display_data"
    }
   ],
   "source": [
    "# plot to see if it may help find the algorithm to use\n",
    "\n",
    "plt.hist(y_train)\n",
    "plt.xlabel(\"taxval\")\n",
    "plt.ylabel(\"beds\")\n",
    "plt.show()"
   ]
  },
  {
   "cell_type": "code",
   "execution_count": 61,
   "id": "9c73f8f5",
   "metadata": {},
   "outputs": [
    {
     "name": "stdout",
     "output_type": "stream",
     "text": [
      "RMSE using Mean\n",
      "Train/In-Sample:  421875.89 \n",
      "Validate/Out-of-Sample:  429523.65\n"
     ]
    }
   ],
   "source": [
    "# We need y_train and y_validate to be dataframes to append the new columns with predicted values. \n",
    "y_train = pd.DataFrame({'taxval': y_train})\n",
    "y_validate = pd.DataFrame({'taxval':y_validate})\n",
    "y_test = pd.DataFrame({'taxval': y_test})\n",
    "\n",
    "\n",
    "# 1. Predict taxval_pred_mean\n",
    "taxval_pred_mean = y_train.taxval.mean()\n",
    "y_train['taxval_pred_mean'] = taxval_pred_mean\n",
    "y_validate['taxval_pred_mean'] = taxval_pred_mean\n",
    "y_test['taxval_pred_mean'] = taxval_pred_mean\n",
    "\n",
    "# 2. compute taxval_pred_median\n",
    "taxval_pred_median = y_train.taxval.median()\n",
    "y_train['taxval_pred_median'] = taxval_pred_median\n",
    "y_validate['taxval_pred_median'] = taxval_pred_median\n",
    "y_test['taxval_pred_median'] = taxval_pred_median\n",
    "\n",
    "# 3. RMSE of taxval_pred_mean\n",
    "rmse_train = mean_squared_error(y_train.taxval, y_train.taxval_pred_mean) ** 0.5\n",
    "rmse_validate = mean_squared_error(y_validate.taxval, y_validate.taxval_pred_mean) ** 0.5\n",
    "\n",
    "print(\"RMSE using Mean\\nTrain/In-Sample: \", round(rmse_train, 2), \n",
    "      \"\\nValidate/Out-of-Sample: \", round(rmse_validate, 2))\n"
   ]
  },
  {
   "cell_type": "code",
   "execution_count": 62,
   "id": "4fa136e2",
   "metadata": {},
   "outputs": [
    {
     "data": {
      "text/html": [
       "<div>\n",
       "<style scoped>\n",
       "    .dataframe tbody tr th:only-of-type {\n",
       "        vertical-align: middle;\n",
       "    }\n",
       "\n",
       "    .dataframe tbody tr th {\n",
       "        vertical-align: top;\n",
       "    }\n",
       "\n",
       "    .dataframe thead th {\n",
       "        text-align: right;\n",
       "    }\n",
       "</style>\n",
       "<table border=\"1\" class=\"dataframe\">\n",
       "  <thead>\n",
       "    <tr style=\"text-align: right;\">\n",
       "      <th></th>\n",
       "      <th>parcelid</th>\n",
       "      <th>baths</th>\n",
       "      <th>beds</th>\n",
       "      <th>sqrft</th>\n",
       "      <th>county</th>\n",
       "      <th>yearbuilt</th>\n",
       "      <th>taxamt</th>\n",
       "      <th>propertylandusetypeid</th>\n",
       "    </tr>\n",
       "  </thead>\n",
       "  <tbody>\n",
       "    <tr>\n",
       "      <th>22934</th>\n",
       "      <td>11707491</td>\n",
       "      <td>1.0</td>\n",
       "      <td>2.0</td>\n",
       "      <td>1056.0</td>\n",
       "      <td>6037.0</td>\n",
       "      <td>1912.0</td>\n",
       "      <td>2054.33</td>\n",
       "      <td>261.0</td>\n",
       "    </tr>\n",
       "    <tr>\n",
       "      <th>6379</th>\n",
       "      <td>13029067</td>\n",
       "      <td>2.0</td>\n",
       "      <td>3.0</td>\n",
       "      <td>1647.0</td>\n",
       "      <td>6037.0</td>\n",
       "      <td>1956.0</td>\n",
       "      <td>4984.65</td>\n",
       "      <td>261.0</td>\n",
       "    </tr>\n",
       "    <tr>\n",
       "      <th>10837</th>\n",
       "      <td>17125619</td>\n",
       "      <td>1.0</td>\n",
       "      <td>2.0</td>\n",
       "      <td>886.0</td>\n",
       "      <td>6111.0</td>\n",
       "      <td>1940.0</td>\n",
       "      <td>4642.44</td>\n",
       "      <td>261.0</td>\n",
       "    </tr>\n",
       "    <tr>\n",
       "      <th>9630</th>\n",
       "      <td>13015375</td>\n",
       "      <td>2.0</td>\n",
       "      <td>3.0</td>\n",
       "      <td>1465.0</td>\n",
       "      <td>6037.0</td>\n",
       "      <td>1960.0</td>\n",
       "      <td>3424.54</td>\n",
       "      <td>261.0</td>\n",
       "    </tr>\n",
       "    <tr>\n",
       "      <th>6005</th>\n",
       "      <td>11832235</td>\n",
       "      <td>1.0</td>\n",
       "      <td>2.0</td>\n",
       "      <td>1128.0</td>\n",
       "      <td>6037.0</td>\n",
       "      <td>1950.0</td>\n",
       "      <td>845.79</td>\n",
       "      <td>261.0</td>\n",
       "    </tr>\n",
       "    <tr>\n",
       "      <th>...</th>\n",
       "      <td>...</td>\n",
       "      <td>...</td>\n",
       "      <td>...</td>\n",
       "      <td>...</td>\n",
       "      <td>...</td>\n",
       "      <td>...</td>\n",
       "      <td>...</td>\n",
       "      <td>...</td>\n",
       "    </tr>\n",
       "    <tr>\n",
       "      <th>10446</th>\n",
       "      <td>12217300</td>\n",
       "      <td>1.0</td>\n",
       "      <td>2.0</td>\n",
       "      <td>908.0</td>\n",
       "      <td>6037.0</td>\n",
       "      <td>1913.0</td>\n",
       "      <td>1236.23</td>\n",
       "      <td>261.0</td>\n",
       "    </tr>\n",
       "    <tr>\n",
       "      <th>26676</th>\n",
       "      <td>12598589</td>\n",
       "      <td>1.0</td>\n",
       "      <td>3.0</td>\n",
       "      <td>1372.0</td>\n",
       "      <td>6037.0</td>\n",
       "      <td>1926.0</td>\n",
       "      <td>1763.72</td>\n",
       "      <td>261.0</td>\n",
       "    </tr>\n",
       "    <tr>\n",
       "      <th>25459</th>\n",
       "      <td>13916709</td>\n",
       "      <td>2.0</td>\n",
       "      <td>3.0</td>\n",
       "      <td>1268.0</td>\n",
       "      <td>6059.0</td>\n",
       "      <td>1954.0</td>\n",
       "      <td>833.08</td>\n",
       "      <td>261.0</td>\n",
       "    </tr>\n",
       "    <tr>\n",
       "      <th>10339</th>\n",
       "      <td>14384639</td>\n",
       "      <td>2.5</td>\n",
       "      <td>3.0</td>\n",
       "      <td>1492.0</td>\n",
       "      <td>6059.0</td>\n",
       "      <td>1989.0</td>\n",
       "      <td>3550.40</td>\n",
       "      <td>261.0</td>\n",
       "    </tr>\n",
       "    <tr>\n",
       "      <th>25495</th>\n",
       "      <td>14021397</td>\n",
       "      <td>2.5</td>\n",
       "      <td>3.0</td>\n",
       "      <td>1508.0</td>\n",
       "      <td>6059.0</td>\n",
       "      <td>1965.0</td>\n",
       "      <td>1743.22</td>\n",
       "      <td>261.0</td>\n",
       "    </tr>\n",
       "  </tbody>\n",
       "</table>\n",
       "<p>15717 rows × 8 columns</p>\n",
       "</div>"
      ],
      "text/plain": [
       "       parcelid  baths  beds   sqrft  county  yearbuilt   taxamt  \\\n",
       "22934  11707491    1.0   2.0  1056.0  6037.0     1912.0  2054.33   \n",
       "6379   13029067    2.0   3.0  1647.0  6037.0     1956.0  4984.65   \n",
       "10837  17125619    1.0   2.0   886.0  6111.0     1940.0  4642.44   \n",
       "9630   13015375    2.0   3.0  1465.0  6037.0     1960.0  3424.54   \n",
       "6005   11832235    1.0   2.0  1128.0  6037.0     1950.0   845.79   \n",
       "...         ...    ...   ...     ...     ...        ...      ...   \n",
       "10446  12217300    1.0   2.0   908.0  6037.0     1913.0  1236.23   \n",
       "26676  12598589    1.0   3.0  1372.0  6037.0     1926.0  1763.72   \n",
       "25459  13916709    2.0   3.0  1268.0  6059.0     1954.0   833.08   \n",
       "10339  14384639    2.5   3.0  1492.0  6059.0     1989.0  3550.40   \n",
       "25495  14021397    2.5   3.0  1508.0  6059.0     1965.0  1743.22   \n",
       "\n",
       "       propertylandusetypeid  \n",
       "22934                  261.0  \n",
       "6379                   261.0  \n",
       "10837                  261.0  \n",
       "9630                   261.0  \n",
       "6005                   261.0  \n",
       "...                      ...  \n",
       "10446                  261.0  \n",
       "26676                  261.0  \n",
       "25459                  261.0  \n",
       "10339                  261.0  \n",
       "25495                  261.0  \n",
       "\n",
       "[15717 rows x 8 columns]"
      ]
     },
     "execution_count": 62,
     "metadata": {},
     "output_type": "execute_result"
    }
   ],
   "source": [
    "X_train"
   ]
  },
  {
   "cell_type": "code",
   "execution_count": 63,
   "id": "551f926d",
   "metadata": {},
   "outputs": [
    {
     "data": {
      "text/html": [
       "<div>\n",
       "<style scoped>\n",
       "    .dataframe tbody tr th:only-of-type {\n",
       "        vertical-align: middle;\n",
       "    }\n",
       "\n",
       "    .dataframe tbody tr th {\n",
       "        vertical-align: top;\n",
       "    }\n",
       "\n",
       "    .dataframe thead th {\n",
       "        text-align: right;\n",
       "    }\n",
       "</style>\n",
       "<table border=\"1\" class=\"dataframe\">\n",
       "  <thead>\n",
       "    <tr style=\"text-align: right;\">\n",
       "      <th></th>\n",
       "      <th>taxval</th>\n",
       "      <th>taxval_pred_mean</th>\n",
       "      <th>taxval_pred_median</th>\n",
       "    </tr>\n",
       "  </thead>\n",
       "  <tbody>\n",
       "    <tr>\n",
       "      <th>22934</th>\n",
       "      <td>162078.0</td>\n",
       "      <td>446485.48139</td>\n",
       "      <td>361811.0</td>\n",
       "    </tr>\n",
       "    <tr>\n",
       "      <th>6379</th>\n",
       "      <td>400436.0</td>\n",
       "      <td>446485.48139</td>\n",
       "      <td>361811.0</td>\n",
       "    </tr>\n",
       "    <tr>\n",
       "      <th>10837</th>\n",
       "      <td>435000.0</td>\n",
       "      <td>446485.48139</td>\n",
       "      <td>361811.0</td>\n",
       "    </tr>\n",
       "    <tr>\n",
       "      <th>9630</th>\n",
       "      <td>274408.0</td>\n",
       "      <td>446485.48139</td>\n",
       "      <td>361811.0</td>\n",
       "    </tr>\n",
       "    <tr>\n",
       "      <th>6005</th>\n",
       "      <td>43854.0</td>\n",
       "      <td>446485.48139</td>\n",
       "      <td>361811.0</td>\n",
       "    </tr>\n",
       "    <tr>\n",
       "      <th>...</th>\n",
       "      <td>...</td>\n",
       "      <td>...</td>\n",
       "      <td>...</td>\n",
       "    </tr>\n",
       "    <tr>\n",
       "      <th>10446</th>\n",
       "      <td>83774.0</td>\n",
       "      <td>446485.48139</td>\n",
       "      <td>361811.0</td>\n",
       "    </tr>\n",
       "    <tr>\n",
       "      <th>26676</th>\n",
       "      <td>139503.0</td>\n",
       "      <td>446485.48139</td>\n",
       "      <td>361811.0</td>\n",
       "    </tr>\n",
       "    <tr>\n",
       "      <th>25459</th>\n",
       "      <td>51933.0</td>\n",
       "      <td>446485.48139</td>\n",
       "      <td>361811.0</td>\n",
       "    </tr>\n",
       "    <tr>\n",
       "      <th>10339</th>\n",
       "      <td>352440.0</td>\n",
       "      <td>446485.48139</td>\n",
       "      <td>361811.0</td>\n",
       "    </tr>\n",
       "    <tr>\n",
       "      <th>25495</th>\n",
       "      <td>110942.0</td>\n",
       "      <td>446485.48139</td>\n",
       "      <td>361811.0</td>\n",
       "    </tr>\n",
       "  </tbody>\n",
       "</table>\n",
       "<p>15717 rows × 3 columns</p>\n",
       "</div>"
      ],
      "text/plain": [
       "         taxval  taxval_pred_mean  taxval_pred_median\n",
       "22934  162078.0      446485.48139            361811.0\n",
       "6379   400436.0      446485.48139            361811.0\n",
       "10837  435000.0      446485.48139            361811.0\n",
       "9630   274408.0      446485.48139            361811.0\n",
       "6005    43854.0      446485.48139            361811.0\n",
       "...         ...               ...                 ...\n",
       "10446   83774.0      446485.48139            361811.0\n",
       "26676  139503.0      446485.48139            361811.0\n",
       "25459   51933.0      446485.48139            361811.0\n",
       "10339  352440.0      446485.48139            361811.0\n",
       "25495  110942.0      446485.48139            361811.0\n",
       "\n",
       "[15717 rows x 3 columns]"
      ]
     },
     "execution_count": 63,
     "metadata": {},
     "output_type": "execute_result"
    }
   ],
   "source": [
    "y_train"
   ]
  },
  {
   "cell_type": "code",
   "execution_count": 64,
   "id": "65acf533",
   "metadata": {},
   "outputs": [],
   "source": [
    "metric_df = pd.DataFrame(data=[{\n",
    "    'model': 'mean_baseline',\n",
    "    'rmse_validate': rmse_validate,\n",
    "    'r^2_validate': explained_variance_score(y_validate.taxval, y_validate.taxval_pred_mean)}])"
   ]
  },
  {
   "cell_type": "code",
   "execution_count": 65,
   "id": "fe52740a",
   "metadata": {},
   "outputs": [
    {
     "data": {
      "text/html": [
       "<div>\n",
       "<style scoped>\n",
       "    .dataframe tbody tr th:only-of-type {\n",
       "        vertical-align: middle;\n",
       "    }\n",
       "\n",
       "    .dataframe tbody tr th {\n",
       "        vertical-align: top;\n",
       "    }\n",
       "\n",
       "    .dataframe thead th {\n",
       "        text-align: right;\n",
       "    }\n",
       "</style>\n",
       "<table border=\"1\" class=\"dataframe\">\n",
       "  <thead>\n",
       "    <tr style=\"text-align: right;\">\n",
       "      <th></th>\n",
       "      <th>model</th>\n",
       "      <th>rmse_validate</th>\n",
       "      <th>r^2_validate</th>\n",
       "    </tr>\n",
       "  </thead>\n",
       "  <tbody>\n",
       "    <tr>\n",
       "      <th>0</th>\n",
       "      <td>mean_baseline</td>\n",
       "      <td>429523.652914</td>\n",
       "      <td>0.0</td>\n",
       "    </tr>\n",
       "  </tbody>\n",
       "</table>\n",
       "</div>"
      ],
      "text/plain": [
       "           model  rmse_validate  r^2_validate\n",
       "0  mean_baseline  429523.652914           0.0"
      ]
     },
     "execution_count": 65,
     "metadata": {},
     "output_type": "execute_result"
    }
   ],
   "source": [
    "metric_df"
   ]
  },
  {
   "cell_type": "code",
   "execution_count": 66,
   "id": "80c6e264",
   "metadata": {},
   "outputs": [
    {
     "data": {
      "image/png": "[encoded data removed]",
      "text/plain": [
       "<Figure size 432x288 with 1 Axes>"
      ]
     },
     "metadata": {
      "needs_background": "light"
     },
     "output_type": "display_data"
    }
   ],
   "source": [
    "plt.hist(y_train.taxval, color='Green', alpha=.5, label=\"Actual tax value\")\n",
    "plt.hist(y_train.taxval_pred_mean, bins=1, color='blue', alpha=.5, rwidth=100, label=\"Predicted tax value - Mean\")\n",
    "plt.hist(y_train.taxval_pred_median, bins=1, color='red', alpha=.5, rwidth=100, label=\"Predicted tax value - Median\")\n",
    "plt.xlabel(\"Final tax value\")\n",
    "plt.ylabel(\"Houses\")\n",
    "plt.legend()\n",
    "plt.show()"
   ]
  },
  {
   "cell_type": "markdown",
   "id": "e2ba8270",
   "metadata": {},
   "source": [
    "Linear Regression"
   ]
  },
  {
   "cell_type": "code",
   "execution_count": 67,
   "id": "d992e841",
   "metadata": {},
   "outputs": [
    {
     "name": "stdout",
     "output_type": "stream",
     "text": [
      "RMSE for OLS using LinearRegression\n",
      "Training/In-Sample:  82659.71946948857 \n",
      "Validation/Out-of-Sample:  74437.57095879511\n"
     ]
    }
   ],
   "source": [
    "lm = LinearRegression(normalize=True)\n",
    "# fit the thing\n",
    "# \n",
    "lm.fit(X_train, y_train.taxval)\n",
    "\n",
    "# predict train\n",
    "# \n",
    "# use the thing!\n",
    "# \n",
    "y_train['taxval_pred_lm'] = lm.predict(X_train)\n",
    "\n",
    "# evaluate: rmse\n",
    "rmse_train = mean_squared_error(y_train.taxval, y_train.taxval_pred_lm) ** (1/2)\n",
    "# predict validate\n",
    "y_validate['taxval_pred_lm'] = lm.predict(X_validate)\n",
    "\n",
    "# evaluate: rmse\n",
    "rmse_validate = mean_squared_error(y_validate.taxval, y_validate.taxval_pred_lm) ** (1/2)\n",
    "\n",
    "print(\"RMSE for OLS using LinearRegression\\nTraining/In-Sample: \", rmse_train, \n",
    "      \"\\nValidation/Out-of-Sample: \", rmse_validate)"
   ]
  },
  {
   "cell_type": "code",
   "execution_count": 68,
   "id": "6b44095e",
   "metadata": {},
   "outputs": [],
   "source": [
    "metric_df = metric_df.append(\n",
    "    {\n",
    "    'model': 'OLS lm',\n",
    "    'rmse_validate': rmse_validate,\n",
    "    'r^2_validate': explained_variance_score(y_validate.taxval, y_validate.taxval_pred_lm)}, ignore_index=True)"
   ]
  },
  {
   "cell_type": "code",
   "execution_count": 69,
   "id": "1ed7a54c",
   "metadata": {},
   "outputs": [
    {
     "data": {
      "text/html": [
       "<div>\n",
       "<style scoped>\n",
       "    .dataframe tbody tr th:only-of-type {\n",
       "        vertical-align: middle;\n",
       "    }\n",
       "\n",
       "    .dataframe tbody tr th {\n",
       "        vertical-align: top;\n",
       "    }\n",
       "\n",
       "    .dataframe thead th {\n",
       "        text-align: right;\n",
       "    }\n",
       "</style>\n",
       "<table border=\"1\" class=\"dataframe\">\n",
       "  <thead>\n",
       "    <tr style=\"text-align: right;\">\n",
       "      <th></th>\n",
       "      <th>model</th>\n",
       "      <th>rmse_validate</th>\n",
       "      <th>r^2_validate</th>\n",
       "    </tr>\n",
       "  </thead>\n",
       "  <tbody>\n",
       "    <tr>\n",
       "      <th>0</th>\n",
       "      <td>mean_baseline</td>\n",
       "      <td>429523.652914</td>\n",
       "      <td>0.000000</td>\n",
       "    </tr>\n",
       "    <tr>\n",
       "      <th>1</th>\n",
       "      <td>OLS lm</td>\n",
       "      <td>74437.570959</td>\n",
       "      <td>0.969941</td>\n",
       "    </tr>\n",
       "  </tbody>\n",
       "</table>\n",
       "</div>"
      ],
      "text/plain": [
       "           model  rmse_validate  r^2_validate\n",
       "0  mean_baseline  429523.652914      0.000000\n",
       "1         OLS lm   74437.570959      0.969941"
      ]
     },
     "execution_count": 69,
     "metadata": {},
     "output_type": "execute_result"
    }
   ],
   "source": [
    "metric_df"
   ]
  },
  {
   "cell_type": "code",
   "execution_count": 70,
   "id": "8a8bf69f",
   "metadata": {},
   "outputs": [
    {
     "data": {
      "text/plain": [
       "74437.57095879511"
      ]
     },
     "execution_count": 70,
     "metadata": {},
     "output_type": "execute_result"
    }
   ],
   "source": [
    "rmse_validate"
   ]
  },
  {
   "cell_type": "markdown",
   "id": "f9d946c9",
   "metadata": {},
   "source": [
    "LASSO LARS"
   ]
  },
  {
   "cell_type": "code",
   "execution_count": 71,
   "id": "9fb598fe",
   "metadata": {},
   "outputs": [
    {
     "name": "stdout",
     "output_type": "stream",
     "text": [
      "RMSE for Lasso + Lars\n",
      "Training/In-Sample:  82660.95135776716 \n",
      "Validation/Out-of-Sample:  74435.3738629121\n"
     ]
    }
   ],
   "source": [
    "# create the model object\n",
    "lars = LassoLars(alpha=1)\n",
    "\n",
    "# fit the model to our training data. We must specify the column in y_train, \n",
    "# since we have converted it to a dataframe from a series!\n",
    "lars.fit(X_train, y_train.taxval)\n",
    "\n",
    "# predict train\n",
    "y_train['taxval_pred_lars'] = lars.predict(X_train)\n",
    "\n",
    "# evaluate: rmse\n",
    "rmse_train = mean_squared_error(y_train.taxval, y_train.taxval_pred_lars) ** 0.5\n",
    "\n",
    "# predict validate\n",
    "y_validate['taxval_pred_lars'] = lars.predict(X_validate)\n",
    "\n",
    "# evaluate: rmse\n",
    "rmse_validate = mean_squared_error(y_validate.taxval, y_validate.taxval_pred_lars) ** 0.5\n",
    "\n",
    "print(\"RMSE for Lasso + Lars\\nTraining/In-Sample: \", rmse_train, \n",
    "      \"\\nValidation/Out-of-Sample: \", rmse_validate)"
   ]
  },
  {
   "cell_type": "code",
   "execution_count": 72,
   "id": "bfb6af05",
   "metadata": {},
   "outputs": [
    {
     "data": {
      "text/html": [
       "<div>\n",
       "<style scoped>\n",
       "    .dataframe tbody tr th:only-of-type {\n",
       "        vertical-align: middle;\n",
       "    }\n",
       "\n",
       "    .dataframe tbody tr th {\n",
       "        vertical-align: top;\n",
       "    }\n",
       "\n",
       "    .dataframe thead th {\n",
       "        text-align: right;\n",
       "    }\n",
       "</style>\n",
       "<table border=\"1\" class=\"dataframe\">\n",
       "  <thead>\n",
       "    <tr style=\"text-align: right;\">\n",
       "      <th></th>\n",
       "      <th>taxval</th>\n",
       "      <th>taxval_pred_mean</th>\n",
       "      <th>taxval_pred_median</th>\n",
       "      <th>taxval_pred_lm</th>\n",
       "      <th>taxval_pred_lars</th>\n",
       "    </tr>\n",
       "  </thead>\n",
       "  <tbody>\n",
       "    <tr>\n",
       "      <th>22934</th>\n",
       "      <td>162078.0</td>\n",
       "      <td>446485.48139</td>\n",
       "      <td>361811.0</td>\n",
       "      <td>165557.155805</td>\n",
       "      <td>165134.024340</td>\n",
       "    </tr>\n",
       "    <tr>\n",
       "      <th>6379</th>\n",
       "      <td>400436.0</td>\n",
       "      <td>446485.48139</td>\n",
       "      <td>361811.0</td>\n",
       "      <td>397437.939888</td>\n",
       "      <td>397434.711674</td>\n",
       "    </tr>\n",
       "    <tr>\n",
       "      <th>10837</th>\n",
       "      <td>435000.0</td>\n",
       "      <td>446485.48139</td>\n",
       "      <td>361811.0</td>\n",
       "      <td>435349.698872</td>\n",
       "      <td>434693.655918</td>\n",
       "    </tr>\n",
       "    <tr>\n",
       "      <th>9630</th>\n",
       "      <td>274408.0</td>\n",
       "      <td>446485.48139</td>\n",
       "      <td>361811.0</td>\n",
       "      <td>262305.826473</td>\n",
       "      <td>262437.713128</td>\n",
       "    </tr>\n",
       "    <tr>\n",
       "      <th>6005</th>\n",
       "      <td>43854.0</td>\n",
       "      <td>446485.48139</td>\n",
       "      <td>361811.0</td>\n",
       "      <td>42741.190470</td>\n",
       "      <td>42879.900104</td>\n",
       "    </tr>\n",
       "    <tr>\n",
       "      <th>...</th>\n",
       "      <td>...</td>\n",
       "      <td>...</td>\n",
       "      <td>...</td>\n",
       "      <td>...</td>\n",
       "      <td>...</td>\n",
       "    </tr>\n",
       "    <tr>\n",
       "      <th>10446</th>\n",
       "      <td>83774.0</td>\n",
       "      <td>446485.48139</td>\n",
       "      <td>361811.0</td>\n",
       "      <td>96031.942254</td>\n",
       "      <td>95662.725974</td>\n",
       "    </tr>\n",
       "    <tr>\n",
       "      <th>26676</th>\n",
       "      <td>139503.0</td>\n",
       "      <td>446485.48139</td>\n",
       "      <td>361811.0</td>\n",
       "      <td>132799.596216</td>\n",
       "      <td>132854.670390</td>\n",
       "    </tr>\n",
       "    <tr>\n",
       "      <th>25459</th>\n",
       "      <td>51933.0</td>\n",
       "      <td>446485.48139</td>\n",
       "      <td>361811.0</td>\n",
       "      <td>64954.782380</td>\n",
       "      <td>64891.079993</td>\n",
       "    </tr>\n",
       "    <tr>\n",
       "      <th>10339</th>\n",
       "      <td>352440.0</td>\n",
       "      <td>446485.48139</td>\n",
       "      <td>361811.0</td>\n",
       "      <td>280244.753645</td>\n",
       "      <td>280414.915242</td>\n",
       "    </tr>\n",
       "    <tr>\n",
       "      <th>25495</th>\n",
       "      <td>110942.0</td>\n",
       "      <td>446485.48139</td>\n",
       "      <td>361811.0</td>\n",
       "      <td>141095.573915</td>\n",
       "      <td>140911.594579</td>\n",
       "    </tr>\n",
       "  </tbody>\n",
       "</table>\n",
       "<p>15717 rows × 5 columns</p>\n",
       "</div>"
      ],
      "text/plain": [
       "         taxval  taxval_pred_mean  taxval_pred_median  taxval_pred_lm  \\\n",
       "22934  162078.0      446485.48139            361811.0   165557.155805   \n",
       "6379   400436.0      446485.48139            361811.0   397437.939888   \n",
       "10837  435000.0      446485.48139            361811.0   435349.698872   \n",
       "9630   274408.0      446485.48139            361811.0   262305.826473   \n",
       "6005    43854.0      446485.48139            361811.0    42741.190470   \n",
       "...         ...               ...                 ...             ...   \n",
       "10446   83774.0      446485.48139            361811.0    96031.942254   \n",
       "26676  139503.0      446485.48139            361811.0   132799.596216   \n",
       "25459   51933.0      446485.48139            361811.0    64954.782380   \n",
       "10339  352440.0      446485.48139            361811.0   280244.753645   \n",
       "25495  110942.0      446485.48139            361811.0   141095.573915   \n",
       "\n",
       "       taxval_pred_lars  \n",
       "22934     165134.024340  \n",
       "6379      397434.711674  \n",
       "10837     434693.655918  \n",
       "9630      262437.713128  \n",
       "6005       42879.900104  \n",
       "...                 ...  \n",
       "10446      95662.725974  \n",
       "26676     132854.670390  \n",
       "25459      64891.079993  \n",
       "10339     280414.915242  \n",
       "25495     140911.594579  \n",
       "\n",
       "[15717 rows x 5 columns]"
      ]
     },
     "execution_count": 72,
     "metadata": {},
     "output_type": "execute_result"
    }
   ],
   "source": [
    "y_train"
   ]
  },
  {
   "cell_type": "code",
   "execution_count": 73,
   "id": "67e7449b",
   "metadata": {},
   "outputs": [],
   "source": [
    "metric_df = metric_df.append(\n",
    "    {\n",
    "    'model': 'LassoLars alpha 1',\n",
    "    'rmse_validate': rmse_validate,\n",
    "    'r^2_validate': explained_variance_score(y_validate.taxval, y_validate.taxval_pred_lars)}, ignore_index=True)"
   ]
  },
  {
   "cell_type": "code",
   "execution_count": 74,
   "id": "0cc71db4",
   "metadata": {},
   "outputs": [
    {
     "data": {
      "text/html": [
       "<div>\n",
       "<style scoped>\n",
       "    .dataframe tbody tr th:only-of-type {\n",
       "        vertical-align: middle;\n",
       "    }\n",
       "\n",
       "    .dataframe tbody tr th {\n",
       "        vertical-align: top;\n",
       "    }\n",
       "\n",
       "    .dataframe thead th {\n",
       "        text-align: right;\n",
       "    }\n",
       "</style>\n",
       "<table border=\"1\" class=\"dataframe\">\n",
       "  <thead>\n",
       "    <tr style=\"text-align: right;\">\n",
       "      <th></th>\n",
       "      <th>model</th>\n",
       "      <th>rmse_validate</th>\n",
       "      <th>r^2_validate</th>\n",
       "    </tr>\n",
       "  </thead>\n",
       "  <tbody>\n",
       "    <tr>\n",
       "      <th>0</th>\n",
       "      <td>mean_baseline</td>\n",
       "      <td>429523.652914</td>\n",
       "      <td>0.000000</td>\n",
       "    </tr>\n",
       "    <tr>\n",
       "      <th>1</th>\n",
       "      <td>OLS lm</td>\n",
       "      <td>74437.570959</td>\n",
       "      <td>0.969941</td>\n",
       "    </tr>\n",
       "    <tr>\n",
       "      <th>2</th>\n",
       "      <td>LassoLars alpha 1</td>\n",
       "      <td>74435.373863</td>\n",
       "      <td>0.969942</td>\n",
       "    </tr>\n",
       "  </tbody>\n",
       "</table>\n",
       "</div>"
      ],
      "text/plain": [
       "               model  rmse_validate  r^2_validate\n",
       "0      mean_baseline  429523.652914      0.000000\n",
       "1             OLS lm   74437.570959      0.969941\n",
       "2  LassoLars alpha 1   74435.373863      0.969942"
      ]
     },
     "execution_count": 74,
     "metadata": {},
     "output_type": "execute_result"
    }
   ],
   "source": [
    "metric_df"
   ]
  },
  {
   "cell_type": "markdown",
   "id": "13eea4a0",
   "metadata": {},
   "source": [
    "TWEEDIE REGRESSOR"
   ]
  },
  {
   "cell_type": "code",
   "execution_count": 75,
   "id": "452cc106",
   "metadata": {},
   "outputs": [
    {
     "name": "stdout",
     "output_type": "stream",
     "text": [
      "RMSE for GLM using Tweedie, power=1 & alpha=0\n",
      "Training/In-Sample:  421875.8885123898 \n",
      "Validation/Out-of-Sample:  429523.6529138066\n"
     ]
    }
   ],
   "source": [
    "# create the model object\n",
    "glm = TweedieRegressor(power=1, alpha=0)\n",
    "\n",
    "# fit the model to our training data. We must specify the column in y_train, \n",
    "# since we have converted it to a dataframe from a series! \n",
    "\n",
    "glm.fit(X_train, y_train.taxval)\n",
    "\n",
    "# predict train\n",
    "y_train['taxval_pred_glm'] = glm.predict(X_train)\n",
    "\n",
    "# evaluate: rmse\n",
    "rmse_train = mean_squared_error(y_train.taxval, y_train.taxval_pred_glm) ** 0.5\n",
    "\n",
    "\n",
    "# predict validate\n",
    "y_validate['taxval_pred_glm'] = glm.predict(X_validate)\n",
    "\n",
    "# evaluate: rmse\n",
    "rmse_validate = mean_squared_error(y_validate.taxval, y_validate.taxval_pred_glm) ** 0.5\n",
    "\n",
    "\n",
    "print(\"RMSE for GLM using Tweedie, power=1 & alpha=0\\nTraining/In-Sample: \", rmse_train, \n",
    "      \"\\nValidation/Out-of-Sample: \", rmse_validate)"
   ]
  },
  {
   "cell_type": "code",
   "execution_count": 76,
   "id": "ec10e5fd",
   "metadata": {},
   "outputs": [],
   "source": [
    "metric_df = metric_df.append(\n",
    "    {\n",
    "    'model': 'GLM Model power 1',\n",
    "    'rmse_validate': rmse_validate,\n",
    "    'r^2_validate': explained_variance_score(y_validate.taxval, y_validate.taxval_pred_glm)}, ignore_index=True)"
   ]
  },
  {
   "cell_type": "code",
   "execution_count": 77,
   "id": "2b4e47e7",
   "metadata": {},
   "outputs": [
    {
     "data": {
      "text/html": [
       "<div>\n",
       "<style scoped>\n",
       "    .dataframe tbody tr th:only-of-type {\n",
       "        vertical-align: middle;\n",
       "    }\n",
       "\n",
       "    .dataframe tbody tr th {\n",
       "        vertical-align: top;\n",
       "    }\n",
       "\n",
       "    .dataframe thead th {\n",
       "        text-align: right;\n",
       "    }\n",
       "</style>\n",
       "<table border=\"1\" class=\"dataframe\">\n",
       "  <thead>\n",
       "    <tr style=\"text-align: right;\">\n",
       "      <th></th>\n",
       "      <th>model</th>\n",
       "      <th>rmse_validate</th>\n",
       "      <th>r^2_validate</th>\n",
       "    </tr>\n",
       "  </thead>\n",
       "  <tbody>\n",
       "    <tr>\n",
       "      <th>0</th>\n",
       "      <td>mean_baseline</td>\n",
       "      <td>429523.652914</td>\n",
       "      <td>0.000000e+00</td>\n",
       "    </tr>\n",
       "    <tr>\n",
       "      <th>1</th>\n",
       "      <td>OLS lm</td>\n",
       "      <td>74437.570959</td>\n",
       "      <td>9.699405e-01</td>\n",
       "    </tr>\n",
       "    <tr>\n",
       "      <th>2</th>\n",
       "      <td>LassoLars alpha 1</td>\n",
       "      <td>74435.373863</td>\n",
       "      <td>9.699423e-01</td>\n",
       "    </tr>\n",
       "    <tr>\n",
       "      <th>3</th>\n",
       "      <td>GLM Model power 1</td>\n",
       "      <td>429523.652914</td>\n",
       "      <td>1.110223e-16</td>\n",
       "    </tr>\n",
       "  </tbody>\n",
       "</table>\n",
       "</div>"
      ],
      "text/plain": [
       "               model  rmse_validate  r^2_validate\n",
       "0      mean_baseline  429523.652914  0.000000e+00\n",
       "1             OLS lm   74437.570959  9.699405e-01\n",
       "2  LassoLars alpha 1   74435.373863  9.699423e-01\n",
       "3  GLM Model power 1  429523.652914  1.110223e-16"
      ]
     },
     "execution_count": 77,
     "metadata": {},
     "output_type": "execute_result"
    }
   ],
   "source": [
    "metric_df"
   ]
  },
  {
   "cell_type": "code",
   "execution_count": 78,
   "id": "62d16571",
   "metadata": {},
   "outputs": [
    {
     "data": {
      "text/html": [
       "<div>\n",
       "<style scoped>\n",
       "    .dataframe tbody tr th:only-of-type {\n",
       "        vertical-align: middle;\n",
       "    }\n",
       "\n",
       "    .dataframe tbody tr th {\n",
       "        vertical-align: top;\n",
       "    }\n",
       "\n",
       "    .dataframe thead th {\n",
       "        text-align: right;\n",
       "    }\n",
       "</style>\n",
       "<table border=\"1\" class=\"dataframe\">\n",
       "  <thead>\n",
       "    <tr style=\"text-align: right;\">\n",
       "      <th></th>\n",
       "      <th>taxval</th>\n",
       "      <th>taxval_pred_mean</th>\n",
       "      <th>taxval_pred_median</th>\n",
       "      <th>taxval_pred_lm</th>\n",
       "      <th>taxval_pred_lars</th>\n",
       "      <th>taxval_pred_glm</th>\n",
       "    </tr>\n",
       "  </thead>\n",
       "  <tbody>\n",
       "    <tr>\n",
       "      <th>22934</th>\n",
       "      <td>162078.0</td>\n",
       "      <td>446485.48139</td>\n",
       "      <td>361811.0</td>\n",
       "      <td>165557.155805</td>\n",
       "      <td>165134.024340</td>\n",
       "      <td>446485.48139</td>\n",
       "    </tr>\n",
       "    <tr>\n",
       "      <th>6379</th>\n",
       "      <td>400436.0</td>\n",
       "      <td>446485.48139</td>\n",
       "      <td>361811.0</td>\n",
       "      <td>397437.939888</td>\n",
       "      <td>397434.711674</td>\n",
       "      <td>446485.48139</td>\n",
       "    </tr>\n",
       "    <tr>\n",
       "      <th>10837</th>\n",
       "      <td>435000.0</td>\n",
       "      <td>446485.48139</td>\n",
       "      <td>361811.0</td>\n",
       "      <td>435349.698872</td>\n",
       "      <td>434693.655918</td>\n",
       "      <td>446485.48139</td>\n",
       "    </tr>\n",
       "    <tr>\n",
       "      <th>9630</th>\n",
       "      <td>274408.0</td>\n",
       "      <td>446485.48139</td>\n",
       "      <td>361811.0</td>\n",
       "      <td>262305.826473</td>\n",
       "      <td>262437.713128</td>\n",
       "      <td>446485.48139</td>\n",
       "    </tr>\n",
       "    <tr>\n",
       "      <th>6005</th>\n",
       "      <td>43854.0</td>\n",
       "      <td>446485.48139</td>\n",
       "      <td>361811.0</td>\n",
       "      <td>42741.190470</td>\n",
       "      <td>42879.900104</td>\n",
       "      <td>446485.48139</td>\n",
       "    </tr>\n",
       "    <tr>\n",
       "      <th>...</th>\n",
       "      <td>...</td>\n",
       "      <td>...</td>\n",
       "      <td>...</td>\n",
       "      <td>...</td>\n",
       "      <td>...</td>\n",
       "      <td>...</td>\n",
       "    </tr>\n",
       "    <tr>\n",
       "      <th>10446</th>\n",
       "      <td>83774.0</td>\n",
       "      <td>446485.48139</td>\n",
       "      <td>361811.0</td>\n",
       "      <td>96031.942254</td>\n",
       "      <td>95662.725974</td>\n",
       "      <td>446485.48139</td>\n",
       "    </tr>\n",
       "    <tr>\n",
       "      <th>26676</th>\n",
       "      <td>139503.0</td>\n",
       "      <td>446485.48139</td>\n",
       "      <td>361811.0</td>\n",
       "      <td>132799.596216</td>\n",
       "      <td>132854.670390</td>\n",
       "      <td>446485.48139</td>\n",
       "    </tr>\n",
       "    <tr>\n",
       "      <th>25459</th>\n",
       "      <td>51933.0</td>\n",
       "      <td>446485.48139</td>\n",
       "      <td>361811.0</td>\n",
       "      <td>64954.782380</td>\n",
       "      <td>64891.079993</td>\n",
       "      <td>446485.48139</td>\n",
       "    </tr>\n",
       "    <tr>\n",
       "      <th>10339</th>\n",
       "      <td>352440.0</td>\n",
       "      <td>446485.48139</td>\n",
       "      <td>361811.0</td>\n",
       "      <td>280244.753645</td>\n",
       "      <td>280414.915242</td>\n",
       "      <td>446485.48139</td>\n",
       "    </tr>\n",
       "    <tr>\n",
       "      <th>25495</th>\n",
       "      <td>110942.0</td>\n",
       "      <td>446485.48139</td>\n",
       "      <td>361811.0</td>\n",
       "      <td>141095.573915</td>\n",
       "      <td>140911.594579</td>\n",
       "      <td>446485.48139</td>\n",
       "    </tr>\n",
       "  </tbody>\n",
       "</table>\n",
       "<p>15717 rows × 6 columns</p>\n",
       "</div>"
      ],
      "text/plain": [
       "         taxval  taxval_pred_mean  taxval_pred_median  taxval_pred_lm  \\\n",
       "22934  162078.0      446485.48139            361811.0   165557.155805   \n",
       "6379   400436.0      446485.48139            361811.0   397437.939888   \n",
       "10837  435000.0      446485.48139            361811.0   435349.698872   \n",
       "9630   274408.0      446485.48139            361811.0   262305.826473   \n",
       "6005    43854.0      446485.48139            361811.0    42741.190470   \n",
       "...         ...               ...                 ...             ...   \n",
       "10446   83774.0      446485.48139            361811.0    96031.942254   \n",
       "26676  139503.0      446485.48139            361811.0   132799.596216   \n",
       "25459   51933.0      446485.48139            361811.0    64954.782380   \n",
       "10339  352440.0      446485.48139            361811.0   280244.753645   \n",
       "25495  110942.0      446485.48139            361811.0   141095.573915   \n",
       "\n",
       "       taxval_pred_lars  taxval_pred_glm  \n",
       "22934     165134.024340     446485.48139  \n",
       "6379      397434.711674     446485.48139  \n",
       "10837     434693.655918     446485.48139  \n",
       "9630      262437.713128     446485.48139  \n",
       "6005       42879.900104     446485.48139  \n",
       "...                 ...              ...  \n",
       "10446      95662.725974     446485.48139  \n",
       "26676     132854.670390     446485.48139  \n",
       "25459      64891.079993     446485.48139  \n",
       "10339     280414.915242     446485.48139  \n",
       "25495     140911.594579     446485.48139  \n",
       "\n",
       "[15717 rows x 6 columns]"
      ]
     },
     "execution_count": 78,
     "metadata": {},
     "output_type": "execute_result"
    }
   ],
   "source": [
    "y_train"
   ]
  },
  {
   "cell_type": "code",
   "execution_count": 79,
   "id": "07cb6905",
   "metadata": {},
   "outputs": [],
   "source": [
    "# run LassoLars the best model on the test data"
   ]
  },
  {
   "cell_type": "code",
   "execution_count": 80,
   "id": "389028e5",
   "metadata": {},
   "outputs": [
    {
     "data": {
      "text/html": [
       "<div>\n",
       "<style scoped>\n",
       "    .dataframe tbody tr th:only-of-type {\n",
       "        vertical-align: middle;\n",
       "    }\n",
       "\n",
       "    .dataframe tbody tr th {\n",
       "        vertical-align: top;\n",
       "    }\n",
       "\n",
       "    .dataframe thead th {\n",
       "        text-align: right;\n",
       "    }\n",
       "</style>\n",
       "<table border=\"1\" class=\"dataframe\">\n",
       "  <thead>\n",
       "    <tr style=\"text-align: right;\">\n",
       "      <th></th>\n",
       "      <th>taxval</th>\n",
       "      <th>taxval_pred_mean</th>\n",
       "      <th>taxval_pred_median</th>\n",
       "    </tr>\n",
       "  </thead>\n",
       "  <tbody>\n",
       "    <tr>\n",
       "      <th>10580</th>\n",
       "      <td>445279.0</td>\n",
       "      <td>446485.48139</td>\n",
       "      <td>361811.0</td>\n",
       "    </tr>\n",
       "    <tr>\n",
       "      <th>21270</th>\n",
       "      <td>393000.0</td>\n",
       "      <td>446485.48139</td>\n",
       "      <td>361811.0</td>\n",
       "    </tr>\n",
       "    <tr>\n",
       "      <th>23690</th>\n",
       "      <td>45723.0</td>\n",
       "      <td>446485.48139</td>\n",
       "      <td>361811.0</td>\n",
       "    </tr>\n",
       "    <tr>\n",
       "      <th>26803</th>\n",
       "      <td>374447.0</td>\n",
       "      <td>446485.48139</td>\n",
       "      <td>361811.0</td>\n",
       "    </tr>\n",
       "    <tr>\n",
       "      <th>26775</th>\n",
       "      <td>69331.0</td>\n",
       "      <td>446485.48139</td>\n",
       "      <td>361811.0</td>\n",
       "    </tr>\n",
       "    <tr>\n",
       "      <th>...</th>\n",
       "      <td>...</td>\n",
       "      <td>...</td>\n",
       "      <td>...</td>\n",
       "    </tr>\n",
       "    <tr>\n",
       "      <th>20200</th>\n",
       "      <td>386252.0</td>\n",
       "      <td>446485.48139</td>\n",
       "      <td>361811.0</td>\n",
       "    </tr>\n",
       "    <tr>\n",
       "      <th>2656</th>\n",
       "      <td>243331.0</td>\n",
       "      <td>446485.48139</td>\n",
       "      <td>361811.0</td>\n",
       "    </tr>\n",
       "    <tr>\n",
       "      <th>27518</th>\n",
       "      <td>213692.0</td>\n",
       "      <td>446485.48139</td>\n",
       "      <td>361811.0</td>\n",
       "    </tr>\n",
       "    <tr>\n",
       "      <th>21528</th>\n",
       "      <td>123000.0</td>\n",
       "      <td>446485.48139</td>\n",
       "      <td>361811.0</td>\n",
       "    </tr>\n",
       "    <tr>\n",
       "      <th>9617</th>\n",
       "      <td>504429.0</td>\n",
       "      <td>446485.48139</td>\n",
       "      <td>361811.0</td>\n",
       "    </tr>\n",
       "  </tbody>\n",
       "</table>\n",
       "<p>5240 rows × 3 columns</p>\n",
       "</div>"
      ],
      "text/plain": [
       "         taxval  taxval_pred_mean  taxval_pred_median\n",
       "10580  445279.0      446485.48139            361811.0\n",
       "21270  393000.0      446485.48139            361811.0\n",
       "23690   45723.0      446485.48139            361811.0\n",
       "26803  374447.0      446485.48139            361811.0\n",
       "26775   69331.0      446485.48139            361811.0\n",
       "...         ...               ...                 ...\n",
       "20200  386252.0      446485.48139            361811.0\n",
       "2656   243331.0      446485.48139            361811.0\n",
       "27518  213692.0      446485.48139            361811.0\n",
       "21528  123000.0      446485.48139            361811.0\n",
       "9617   504429.0      446485.48139            361811.0\n",
       "\n",
       "[5240 rows x 3 columns]"
      ]
     },
     "execution_count": 80,
     "metadata": {},
     "output_type": "execute_result"
    }
   ],
   "source": [
    "y_test"
   ]
  },
  {
   "cell_type": "code",
   "execution_count": 81,
   "id": "63fc292c",
   "metadata": {},
   "outputs": [
    {
     "name": "stdout",
     "output_type": "stream",
     "text": [
      "RMSE for Lasso + Lars\n",
      "Training/In-Sample:  69135.25608727423 \n",
      "Validation/Out-of-Sample:  74435.10238790516\n"
     ]
    }
   ],
   "source": [
    "# create the model object\n",
    "lars = LassoLars(alpha=1.0)\n",
    "\n",
    "# fit the model to our training data. We must specify the column in y_train, \n",
    "# since we have converted it to a dataframe from a series! \n",
    "lars.fit(X_test, y_test.taxval)\n",
    "\n",
    "# predict train\n",
    "y_test['taxval_pred_lars'] = lars.predict(X_test)\n",
    "\n",
    "# evaluate: rmse\n",
    "rmse_test = mean_squared_error(y_test.taxval, y_test.taxval_pred_lars)**(1/2)\n",
    "\n",
    "# predict validate\n",
    "y_validate['taxval_pred_lars'] = lars.predict(X_validate)\n",
    "\n",
    "# evaluate: rmse\n",
    "rmse_validate = mean_squared_error(y_validate.taxval, y_validate.taxval_pred_lars)**(1/2)\n",
    "\n",
    "print(\"RMSE for Lasso + Lars\\nTraining/In-Sample: \", rmse_test, \n",
    "      \"\\nValidation/Out-of-Sample: \", rmse_validate)"
   ]
  },
  {
   "cell_type": "code",
   "execution_count": 82,
   "id": "3ecbf81e",
   "metadata": {},
   "outputs": [
    {
     "data": {
      "image/png": "[encoded data removed]",
      "text/plain": [
       "<Figure size 1152x576 with 1 Axes>"
      ]
     },
     "metadata": {
      "needs_background": "light"
     },
     "output_type": "display_data"
    }
   ],
   "source": [
    "# y_validate.head()\n",
    "plt.figure(figsize=(16,8))\n",
    "plt.plot(y_validate.taxval, y_validate.taxval_pred_mean, alpha=.5, color=\"gray\", label='_nolegend_')\n",
    "plt.annotate(\"Baseline: Predict Using Mean\", (16, 9.5))\n",
    "plt.plot(y_validate.taxval, y_validate.taxval, alpha=.5, color=\"blue\", label='_nolegend_')\n",
    "plt.annotate(\"The Ideal Line: Predicted = Actual\", (.5, 3.5), rotation=15.5)\n",
    "\n",
    "plt.scatter(y_validate.taxval, y_validate.taxval_pred_lm, \n",
    "            alpha=.5, color=\"Green\", s=100, label=\"Model: LinearRegression\")\n",
    "plt.scatter(y_validate.taxval, y_validate.taxval_pred_glm, \n",
    "            alpha=.5, color=\"yellow\", s=100, label=\"Model: TweedieRegressor\")\n",
    "#plt.scatter(y_validate.taxval, y_validate.taxval_pred_lm2, \n",
    "#           alpha=.5, color=\"green\", s=100, label=\"Model 2nd degree Polynomial\")\n",
    "plt.legend()\n",
    "plt.xlabel(\"Actual Tax Value\")\n",
    "plt.ylabel(\"Predicted Tax Value\")\n",
    "plt.title(\"Where are predictions the higest and the lowest?\")\n",
    "# plt.annotate(\"The polynomial model appears to overreact to noise\", (2.0, -10))\n",
    "# plt.annotate(\"The OLS model (LinearRegression)\\n appears to be most consistent\", (15.5, 3))\n",
    "plt.show()\n"
   ]
  },
  {
   "cell_type": "code",
   "execution_count": 83,
   "id": "9674e478",
   "metadata": {},
   "outputs": [
    {
     "data": {
      "image/png": "[encoded data removed]",
      "text/plain": [
       "<Figure size 1152x576 with 1 Axes>"
      ]
     },
     "metadata": {
      "needs_background": "light"
     },
     "output_type": "display_data"
    }
   ],
   "source": [
    "# y_validate.head()\n",
    "plt.figure(figsize=(16,8))\n",
    "plt.axhline(label=\"No Error\")\n",
    "plt.scatter(y_validate.taxval, y_validate.taxval_pred_lm-y_validate.taxval, \n",
    "            alpha=.5, color=\"green\", s=100, label=\"Model: LinearRegression\")\n",
    "plt.scatter(y_validate.taxval, y_validate.taxval_pred_lars-y_validate.taxval, \n",
    "            alpha=.5, color=\"yellow\", s=100, label=\"Model: LassoLars\")\n",
    "plt.scatter(y_validate.taxval, y_validate.taxval_pred_glm-y_validate.taxval, \n",
    "            alpha=.5, color=\"red\", s=100, label=\"Model TweedieRegressor\")\n",
    "plt.legend()\n",
    "plt.xlabel(\"Actual Tax Value\")\n",
    "plt.ylabel(\"Residual/Error: Predicted Tax Value\")\n",
    "plt.title(\"Does the error size change with value?\")\n",
    "#plt.annotate(\"polynomial model is effected by noise\", (5.0, -15))\n",
    "#plt.annotate(\"Linear regression model is most consistent\", (20.5, 5))\n",
    "plt.show()"
   ]
  },
  {
   "cell_type": "markdown",
   "id": "e04b2746",
   "metadata": {},
   "source": [
    "EXTRA DELIVERABLES"
   ]
  },
  {
   "cell_type": "code",
   "execution_count": 84,
   "id": "9555fb89",
   "metadata": {},
   "outputs": [
    {
     "data": {
      "text/html": [
       "<div>\n",
       "<style scoped>\n",
       "    .dataframe tbody tr th:only-of-type {\n",
       "        vertical-align: middle;\n",
       "    }\n",
       "\n",
       "    .dataframe tbody tr th {\n",
       "        vertical-align: top;\n",
       "    }\n",
       "\n",
       "    .dataframe thead th {\n",
       "        text-align: right;\n",
       "    }\n",
       "</style>\n",
       "<table border=\"1\" class=\"dataframe\">\n",
       "  <thead>\n",
       "    <tr style=\"text-align: right;\">\n",
       "      <th></th>\n",
       "      <th>parcelid</th>\n",
       "      <th>baths</th>\n",
       "      <th>beds</th>\n",
       "      <th>sqrft</th>\n",
       "      <th>county</th>\n",
       "      <th>yearbuilt</th>\n",
       "      <th>taxval</th>\n",
       "      <th>taxamt</th>\n",
       "      <th>propertylandusetypeid</th>\n",
       "    </tr>\n",
       "  </thead>\n",
       "  <tbody>\n",
       "    <tr>\n",
       "      <th>0</th>\n",
       "      <td>11721753</td>\n",
       "      <td>2.0</td>\n",
       "      <td>3.0</td>\n",
       "      <td>1316.0</td>\n",
       "      <td>6037.0</td>\n",
       "      <td>1923.0</td>\n",
       "      <td>205123.0</td>\n",
       "      <td>2627.48</td>\n",
       "      <td>261.0</td>\n",
       "    </tr>\n",
       "    <tr>\n",
       "      <th>1</th>\n",
       "      <td>11289917</td>\n",
       "      <td>2.0</td>\n",
       "      <td>3.0</td>\n",
       "      <td>1458.0</td>\n",
       "      <td>6037.0</td>\n",
       "      <td>1970.0</td>\n",
       "      <td>136104.0</td>\n",
       "      <td>2319.90</td>\n",
       "      <td>261.0</td>\n",
       "    </tr>\n",
       "    <tr>\n",
       "      <th>2</th>\n",
       "      <td>11705026</td>\n",
       "      <td>1.0</td>\n",
       "      <td>2.0</td>\n",
       "      <td>1421.0</td>\n",
       "      <td>6037.0</td>\n",
       "      <td>1911.0</td>\n",
       "      <td>35606.0</td>\n",
       "      <td>543.69</td>\n",
       "      <td>261.0</td>\n",
       "    </tr>\n",
       "    <tr>\n",
       "      <th>3</th>\n",
       "      <td>14269464</td>\n",
       "      <td>3.0</td>\n",
       "      <td>4.0</td>\n",
       "      <td>2541.0</td>\n",
       "      <td>6059.0</td>\n",
       "      <td>2003.0</td>\n",
       "      <td>880456.0</td>\n",
       "      <td>9819.72</td>\n",
       "      <td>261.0</td>\n",
       "    </tr>\n",
       "    <tr>\n",
       "      <th>4</th>\n",
       "      <td>11446756</td>\n",
       "      <td>2.0</td>\n",
       "      <td>3.0</td>\n",
       "      <td>1491.0</td>\n",
       "      <td>6037.0</td>\n",
       "      <td>1955.0</td>\n",
       "      <td>107110.0</td>\n",
       "      <td>1399.27</td>\n",
       "      <td>261.0</td>\n",
       "    </tr>\n",
       "  </tbody>\n",
       "</table>\n",
       "</div>"
      ],
      "text/plain": [
       "   parcelid  baths  beds   sqrft  county  yearbuilt    taxval   taxamt  \\\n",
       "0  11721753    2.0   3.0  1316.0  6037.0     1923.0  205123.0  2627.48   \n",
       "1  11289917    2.0   3.0  1458.0  6037.0     1970.0  136104.0  2319.90   \n",
       "2  11705026    1.0   2.0  1421.0  6037.0     1911.0   35606.0   543.69   \n",
       "3  14269464    3.0   4.0  2541.0  6059.0     2003.0  880456.0  9819.72   \n",
       "4  11446756    2.0   3.0  1491.0  6037.0     1955.0  107110.0  1399.27   \n",
       "\n",
       "   propertylandusetypeid  \n",
       "0                  261.0  \n",
       "1                  261.0  \n",
       "2                  261.0  \n",
       "3                  261.0  \n",
       "4                  261.0  "
      ]
     },
     "execution_count": 84,
     "metadata": {},
     "output_type": "execute_result"
    }
   ],
   "source": [
    "df.head()"
   ]
  },
  {
   "cell_type": "markdown",
   "id": "9bc835b9",
   "metadata": {},
   "source": [
    "Figure out how to calcuate tax rate"
   ]
  },
  {
   "cell_type": "code",
   "execution_count": 85,
   "id": "586cda47",
   "metadata": {},
   "outputs": [],
   "source": [
    "df_taxrate = df[['parcelid', 'county', 'taxval', 'taxamt']]"
   ]
  },
  {
   "cell_type": "code",
   "execution_count": 86,
   "id": "5feed902",
   "metadata": {},
   "outputs": [
    {
     "data": {
      "text/html": [
       "<div>\n",
       "<style scoped>\n",
       "    .dataframe tbody tr th:only-of-type {\n",
       "        vertical-align: middle;\n",
       "    }\n",
       "\n",
       "    .dataframe tbody tr th {\n",
       "        vertical-align: top;\n",
       "    }\n",
       "\n",
       "    .dataframe thead th {\n",
       "        text-align: right;\n",
       "    }\n",
       "</style>\n",
       "<table border=\"1\" class=\"dataframe\">\n",
       "  <thead>\n",
       "    <tr style=\"text-align: right;\">\n",
       "      <th></th>\n",
       "      <th>parcelid</th>\n",
       "      <th>county</th>\n",
       "      <th>taxval</th>\n",
       "      <th>taxamt</th>\n",
       "    </tr>\n",
       "  </thead>\n",
       "  <tbody>\n",
       "    <tr>\n",
       "      <th>0</th>\n",
       "      <td>11721753</td>\n",
       "      <td>6037.0</td>\n",
       "      <td>205123.0</td>\n",
       "      <td>2627.48</td>\n",
       "    </tr>\n",
       "    <tr>\n",
       "      <th>1</th>\n",
       "      <td>11289917</td>\n",
       "      <td>6037.0</td>\n",
       "      <td>136104.0</td>\n",
       "      <td>2319.90</td>\n",
       "    </tr>\n",
       "    <tr>\n",
       "      <th>2</th>\n",
       "      <td>11705026</td>\n",
       "      <td>6037.0</td>\n",
       "      <td>35606.0</td>\n",
       "      <td>543.69</td>\n",
       "    </tr>\n",
       "    <tr>\n",
       "      <th>3</th>\n",
       "      <td>14269464</td>\n",
       "      <td>6059.0</td>\n",
       "      <td>880456.0</td>\n",
       "      <td>9819.72</td>\n",
       "    </tr>\n",
       "    <tr>\n",
       "      <th>4</th>\n",
       "      <td>11446756</td>\n",
       "      <td>6037.0</td>\n",
       "      <td>107110.0</td>\n",
       "      <td>1399.27</td>\n",
       "    </tr>\n",
       "    <tr>\n",
       "      <th>...</th>\n",
       "      <td>...</td>\n",
       "      <td>...</td>\n",
       "      <td>...</td>\n",
       "      <td>...</td>\n",
       "    </tr>\n",
       "    <tr>\n",
       "      <th>28180</th>\n",
       "      <td>11991766</td>\n",
       "      <td>6037.0</td>\n",
       "      <td>878190.0</td>\n",
       "      <td>12766.88</td>\n",
       "    </tr>\n",
       "    <tr>\n",
       "      <th>28181</th>\n",
       "      <td>14011468</td>\n",
       "      <td>6059.0</td>\n",
       "      <td>465999.0</td>\n",
       "      <td>5552.68</td>\n",
       "    </tr>\n",
       "    <tr>\n",
       "      <th>28182</th>\n",
       "      <td>14453399</td>\n",
       "      <td>6059.0</td>\n",
       "      <td>852813.0</td>\n",
       "      <td>11662.88</td>\n",
       "    </tr>\n",
       "    <tr>\n",
       "      <th>28183</th>\n",
       "      <td>11128688</td>\n",
       "      <td>6037.0</td>\n",
       "      <td>1120000.0</td>\n",
       "      <td>13663.03</td>\n",
       "    </tr>\n",
       "    <tr>\n",
       "      <th>28184</th>\n",
       "      <td>10713993</td>\n",
       "      <td>6037.0</td>\n",
       "      <td>563463.0</td>\n",
       "      <td>6903.66</td>\n",
       "    </tr>\n",
       "  </tbody>\n",
       "</table>\n",
       "<p>26196 rows × 4 columns</p>\n",
       "</div>"
      ],
      "text/plain": [
       "       parcelid  county     taxval    taxamt\n",
       "0      11721753  6037.0   205123.0   2627.48\n",
       "1      11289917  6037.0   136104.0   2319.90\n",
       "2      11705026  6037.0    35606.0    543.69\n",
       "3      14269464  6059.0   880456.0   9819.72\n",
       "4      11446756  6037.0   107110.0   1399.27\n",
       "...         ...     ...        ...       ...\n",
       "28180  11991766  6037.0   878190.0  12766.88\n",
       "28181  14011468  6059.0   465999.0   5552.68\n",
       "28182  14453399  6059.0   852813.0  11662.88\n",
       "28183  11128688  6037.0  1120000.0  13663.03\n",
       "28184  10713993  6037.0   563463.0   6903.66\n",
       "\n",
       "[26196 rows x 4 columns]"
      ]
     },
     "execution_count": 86,
     "metadata": {},
     "output_type": "execute_result"
    }
   ],
   "source": [
    "df_taxrate"
   ]
  },
  {
   "cell_type": "code",
   "execution_count": 87,
   "id": "d6739828",
   "metadata": {},
   "outputs": [],
   "source": [
    "df_taxrate['tax_rate'] = df.taxamt / df.taxval"
   ]
  },
  {
   "cell_type": "code",
   "execution_count": 88,
   "id": "43b07d8c",
   "metadata": {},
   "outputs": [
    {
     "data": {
      "text/html": [
       "<div>\n",
       "<style scoped>\n",
       "    .dataframe tbody tr th:only-of-type {\n",
       "        vertical-align: middle;\n",
       "    }\n",
       "\n",
       "    .dataframe tbody tr th {\n",
       "        vertical-align: top;\n",
       "    }\n",
       "\n",
       "    .dataframe thead th {\n",
       "        text-align: right;\n",
       "    }\n",
       "</style>\n",
       "<table border=\"1\" class=\"dataframe\">\n",
       "  <thead>\n",
       "    <tr style=\"text-align: right;\">\n",
       "      <th></th>\n",
       "      <th>parcelid</th>\n",
       "      <th>county</th>\n",
       "      <th>taxval</th>\n",
       "      <th>taxamt</th>\n",
       "      <th>tax_rate</th>\n",
       "    </tr>\n",
       "  </thead>\n",
       "  <tbody>\n",
       "    <tr>\n",
       "      <th>0</th>\n",
       "      <td>11721753</td>\n",
       "      <td>6037.0</td>\n",
       "      <td>205123.0</td>\n",
       "      <td>2627.48</td>\n",
       "      <td>0.012809</td>\n",
       "    </tr>\n",
       "    <tr>\n",
       "      <th>1</th>\n",
       "      <td>11289917</td>\n",
       "      <td>6037.0</td>\n",
       "      <td>136104.0</td>\n",
       "      <td>2319.90</td>\n",
       "      <td>0.017045</td>\n",
       "    </tr>\n",
       "    <tr>\n",
       "      <th>2</th>\n",
       "      <td>11705026</td>\n",
       "      <td>6037.0</td>\n",
       "      <td>35606.0</td>\n",
       "      <td>543.69</td>\n",
       "      <td>0.015270</td>\n",
       "    </tr>\n",
       "    <tr>\n",
       "      <th>3</th>\n",
       "      <td>14269464</td>\n",
       "      <td>6059.0</td>\n",
       "      <td>880456.0</td>\n",
       "      <td>9819.72</td>\n",
       "      <td>0.011153</td>\n",
       "    </tr>\n",
       "    <tr>\n",
       "      <th>4</th>\n",
       "      <td>11446756</td>\n",
       "      <td>6037.0</td>\n",
       "      <td>107110.0</td>\n",
       "      <td>1399.27</td>\n",
       "      <td>0.013064</td>\n",
       "    </tr>\n",
       "    <tr>\n",
       "      <th>...</th>\n",
       "      <td>...</td>\n",
       "      <td>...</td>\n",
       "      <td>...</td>\n",
       "      <td>...</td>\n",
       "      <td>...</td>\n",
       "    </tr>\n",
       "    <tr>\n",
       "      <th>28180</th>\n",
       "      <td>11991766</td>\n",
       "      <td>6037.0</td>\n",
       "      <td>878190.0</td>\n",
       "      <td>12766.88</td>\n",
       "      <td>0.014538</td>\n",
       "    </tr>\n",
       "    <tr>\n",
       "      <th>28181</th>\n",
       "      <td>14011468</td>\n",
       "      <td>6059.0</td>\n",
       "      <td>465999.0</td>\n",
       "      <td>5552.68</td>\n",
       "      <td>0.011916</td>\n",
       "    </tr>\n",
       "    <tr>\n",
       "      <th>28182</th>\n",
       "      <td>14453399</td>\n",
       "      <td>6059.0</td>\n",
       "      <td>852813.0</td>\n",
       "      <td>11662.88</td>\n",
       "      <td>0.013676</td>\n",
       "    </tr>\n",
       "    <tr>\n",
       "      <th>28183</th>\n",
       "      <td>11128688</td>\n",
       "      <td>6037.0</td>\n",
       "      <td>1120000.0</td>\n",
       "      <td>13663.03</td>\n",
       "      <td>0.012199</td>\n",
       "    </tr>\n",
       "    <tr>\n",
       "      <th>28184</th>\n",
       "      <td>10713993</td>\n",
       "      <td>6037.0</td>\n",
       "      <td>563463.0</td>\n",
       "      <td>6903.66</td>\n",
       "      <td>0.012252</td>\n",
       "    </tr>\n",
       "  </tbody>\n",
       "</table>\n",
       "<p>26196 rows × 5 columns</p>\n",
       "</div>"
      ],
      "text/plain": [
       "       parcelid  county     taxval    taxamt  tax_rate\n",
       "0      11721753  6037.0   205123.0   2627.48  0.012809\n",
       "1      11289917  6037.0   136104.0   2319.90  0.017045\n",
       "2      11705026  6037.0    35606.0    543.69  0.015270\n",
       "3      14269464  6059.0   880456.0   9819.72  0.011153\n",
       "4      11446756  6037.0   107110.0   1399.27  0.013064\n",
       "...         ...     ...        ...       ...       ...\n",
       "28180  11991766  6037.0   878190.0  12766.88  0.014538\n",
       "28181  14011468  6059.0   465999.0   5552.68  0.011916\n",
       "28182  14453399  6059.0   852813.0  11662.88  0.013676\n",
       "28183  11128688  6037.0  1120000.0  13663.03  0.012199\n",
       "28184  10713993  6037.0   563463.0   6903.66  0.012252\n",
       "\n",
       "[26196 rows x 5 columns]"
      ]
     },
     "execution_count": 88,
     "metadata": {},
     "output_type": "execute_result"
    }
   ],
   "source": [
    "df_taxrate"
   ]
  },
  {
   "cell_type": "code",
   "execution_count": 89,
   "id": "6eb73e1c",
   "metadata": {},
   "outputs": [
    {
     "data": {
      "text/plain": [
       "array([[<AxesSubplot:title={'center':'6037.0'}>,\n",
       "        <AxesSubplot:title={'center':'6059.0'}>],\n",
       "       [<AxesSubplot:title={'center':'6111.0'}>, <AxesSubplot:>]],\n",
       "      dtype=object)"
      ]
     },
     "execution_count": 89,
     "metadata": {},
     "output_type": "execute_result"
    },
    {
     "data": {
      "image/png": "[encoded data removed]",
      "text/plain": [
       "<Figure size 432x288 with 4 Axes>"
      ]
     },
     "metadata": {
      "needs_background": "light"
     },
     "output_type": "display_data"
    }
   ],
   "source": [
    "df_taxrate['tax_rate'].hist(by = df['county'])"
   ]
  },
  {
   "cell_type": "code",
   "execution_count": 90,
   "id": "b5271090",
   "metadata": {},
   "outputs": [
    {
     "data": {
      "text/html": [
       "<div>\n",
       "<style scoped>\n",
       "    .dataframe tbody tr th:only-of-type {\n",
       "        vertical-align: middle;\n",
       "    }\n",
       "\n",
       "    .dataframe tbody tr th {\n",
       "        vertical-align: top;\n",
       "    }\n",
       "\n",
       "    .dataframe thead th {\n",
       "        text-align: right;\n",
       "    }\n",
       "</style>\n",
       "<table border=\"1\" class=\"dataframe\">\n",
       "  <thead>\n",
       "    <tr style=\"text-align: right;\">\n",
       "      <th></th>\n",
       "      <th>parcelid</th>\n",
       "      <th>baths</th>\n",
       "      <th>beds</th>\n",
       "      <th>sqrft</th>\n",
       "      <th>county</th>\n",
       "      <th>yearbuilt</th>\n",
       "      <th>taxval</th>\n",
       "      <th>taxamt</th>\n",
       "      <th>propertylandusetypeid</th>\n",
       "    </tr>\n",
       "  </thead>\n",
       "  <tbody>\n",
       "    <tr>\n",
       "      <th>0</th>\n",
       "      <td>11721753</td>\n",
       "      <td>2.0</td>\n",
       "      <td>3.0</td>\n",
       "      <td>1316.0</td>\n",
       "      <td>6037.0</td>\n",
       "      <td>1923.0</td>\n",
       "      <td>205123.0</td>\n",
       "      <td>2627.48</td>\n",
       "      <td>261.0</td>\n",
       "    </tr>\n",
       "    <tr>\n",
       "      <th>1</th>\n",
       "      <td>11289917</td>\n",
       "      <td>2.0</td>\n",
       "      <td>3.0</td>\n",
       "      <td>1458.0</td>\n",
       "      <td>6037.0</td>\n",
       "      <td>1970.0</td>\n",
       "      <td>136104.0</td>\n",
       "      <td>2319.90</td>\n",
       "      <td>261.0</td>\n",
       "    </tr>\n",
       "    <tr>\n",
       "      <th>2</th>\n",
       "      <td>11705026</td>\n",
       "      <td>1.0</td>\n",
       "      <td>2.0</td>\n",
       "      <td>1421.0</td>\n",
       "      <td>6037.0</td>\n",
       "      <td>1911.0</td>\n",
       "      <td>35606.0</td>\n",
       "      <td>543.69</td>\n",
       "      <td>261.0</td>\n",
       "    </tr>\n",
       "    <tr>\n",
       "      <th>3</th>\n",
       "      <td>14269464</td>\n",
       "      <td>3.0</td>\n",
       "      <td>4.0</td>\n",
       "      <td>2541.0</td>\n",
       "      <td>6059.0</td>\n",
       "      <td>2003.0</td>\n",
       "      <td>880456.0</td>\n",
       "      <td>9819.72</td>\n",
       "      <td>261.0</td>\n",
       "    </tr>\n",
       "    <tr>\n",
       "      <th>4</th>\n",
       "      <td>11446756</td>\n",
       "      <td>2.0</td>\n",
       "      <td>3.0</td>\n",
       "      <td>1491.0</td>\n",
       "      <td>6037.0</td>\n",
       "      <td>1955.0</td>\n",
       "      <td>107110.0</td>\n",
       "      <td>1399.27</td>\n",
       "      <td>261.0</td>\n",
       "    </tr>\n",
       "  </tbody>\n",
       "</table>\n",
       "</div>"
      ],
      "text/plain": [
       "   parcelid  baths  beds   sqrft  county  yearbuilt    taxval   taxamt  \\\n",
       "0  11721753    2.0   3.0  1316.0  6037.0     1923.0  205123.0  2627.48   \n",
       "1  11289917    2.0   3.0  1458.0  6037.0     1970.0  136104.0  2319.90   \n",
       "2  11705026    1.0   2.0  1421.0  6037.0     1911.0   35606.0   543.69   \n",
       "3  14269464    3.0   4.0  2541.0  6059.0     2003.0  880456.0  9819.72   \n",
       "4  11446756    2.0   3.0  1491.0  6037.0     1955.0  107110.0  1399.27   \n",
       "\n",
       "   propertylandusetypeid  \n",
       "0                  261.0  \n",
       "1                  261.0  \n",
       "2                  261.0  \n",
       "3                  261.0  \n",
       "4                  261.0  "
      ]
     },
     "execution_count": 90,
     "metadata": {},
     "output_type": "execute_result"
    }
   ],
   "source": [
    "df.head()"
   ]
  },
  {
   "cell_type": "code",
   "execution_count": 91,
   "id": "c9f7d859",
   "metadata": {},
   "outputs": [
    {
     "data": {
      "image/png": "[encoded data removed]",
      "text/plain": [
       "<Figure size 432x288 with 1 Axes>"
      ]
     },
     "metadata": {
      "needs_background": "light"
     },
     "output_type": "display_data"
    }
   ],
   "source": [
    "x1 = df_taxrate.loc[df.county==6037, 'tax_rate']\n",
    "x2 = df_taxrate.loc[df.county==6059, 'tax_rate']\n",
    "x3 = df_taxrate.loc[df.county==6111, 'tax_rate']\n",
    "\n",
    "kwargs = dict(alpha=0.5, bins=100)\n",
    "\n",
    "plt.hist(x1, **kwargs, color='g', label=6037)\n",
    "plt.hist(x2, **kwargs, color='r', label=6059)\n",
    "plt.hist(x3, **kwargs, color='y', label=6111)\n",
    "plt.gca().set(title= 'Tax_Rate', ylabel = \"Frequency\")\n",
    "plt.xlim(0,.05)\n",
    "plt.yscale('log')\n",
    "plt.legend();"
   ]
  },
  {
   "cell_type": "code",
   "execution_count": null,
   "id": "b2e2e1a3",
   "metadata": {},
   "outputs": [],
   "source": []
  }
 ],
 "metadata": {
  "kernelspec": {
   "display_name": "Python 3",
   "language": "python",
   "name": "python3"
  },
  "language_info": {
   "codemirror_mode": {
    "name": "ipython",
    "version": 3
   },
   "file_extension": ".py",
   "mimetype": "text/x-python",
   "name": "python",
   "nbconvert_exporter": "python",
   "pygments_lexer": "ipython3",
   "version": "3.8.8"
  }
 },
 "nbformat": 4,
 "nbformat_minor": 5
}
